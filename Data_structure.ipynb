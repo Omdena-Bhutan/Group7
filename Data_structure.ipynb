{
  "nbformat": 4,
  "nbformat_minor": 0,
  "metadata": {
    "colab": {
      "provenance": [],
      "authorship_tag": "ABX9TyMb+9jdofclJwTGQZxwbJtQ",
      "include_colab_link": true
    },
    "kernelspec": {
      "name": "python3",
      "display_name": "Python 3"
    },
    "language_info": {
      "name": "python"
    }
  },
  "cells": [
    {
      "cell_type": "markdown",
      "metadata": {
        "id": "view-in-github",
        "colab_type": "text"
      },
      "source": [
        "<a href=\"https://colab.research.google.com/github/Omdena-Bhutan/02-data-structures-group-7/blob/main/Data_structure.ipynb\" target=\"_parent\"><img src=\"https://colab.research.google.com/assets/colab-badge.svg\" alt=\"Open In Colab\"/></a>"
      ]
    },
    {
      "cell_type": "code",
      "execution_count": 12,
      "metadata": {
        "id": "kr5xIr6g5DLj"
      },
      "outputs": [],
      "source": [
        "myList=['Pema', 'Dorji', 'Sonam', 'Wangdi', 'Karma','Dawa']"
      ]
    },
    {
      "cell_type": "code",
      "source": [
        "myList"
      ],
      "metadata": {
        "colab": {
          "base_uri": "https://localhost:8080/"
        },
        "id": "QrWcahBF5cr3",
        "outputId": "172be587-bf18-43e9-83ef-525b9b046f26"
      },
      "execution_count": 13,
      "outputs": [
        {
          "output_type": "execute_result",
          "data": {
            "text/plain": [
              "['Pema', 'Dorji', 'Sonam', 'Wangdi', 'Karma', 'Dawa']"
            ]
          },
          "metadata": {},
          "execution_count": 13
        }
      ]
    },
    {
      "cell_type": "code",
      "source": [
        "myList.append('Meto')\n",
        "myList"
      ],
      "metadata": {
        "colab": {
          "base_uri": "https://localhost:8080/"
        },
        "id": "dsBng6_Z5gB8",
        "outputId": "a2ec5fcf-adb9-4967-9e93-c664f655abdf"
      },
      "execution_count": 14,
      "outputs": [
        {
          "output_type": "execute_result",
          "data": {
            "text/plain": [
              "['Pema', 'Dorji', 'Sonam', 'Wangdi', 'Karma', 'Dawa', 'Meto']"
            ]
          },
          "metadata": {},
          "execution_count": 14
        }
      ]
    },
    {
      "cell_type": "code",
      "source": [
        "myList\n"
      ],
      "metadata": {
        "colab": {
          "base_uri": "https://localhost:8080/"
        },
        "id": "PAhmt_l-6AEd",
        "outputId": "aa646bbb-4bb6-4128-b188-7589705c5519"
      },
      "execution_count": 15,
      "outputs": [
        {
          "output_type": "execute_result",
          "data": {
            "text/plain": [
              "['Pema', 'Dorji', 'Sonam', 'Wangdi', 'Karma', 'Dawa', 'Meto']"
            ]
          },
          "metadata": {},
          "execution_count": 15
        }
      ]
    },
    {
      "cell_type": "code",
      "source": [
        "myList.remove('Wangdi')\n",
        "myList"
      ],
      "metadata": {
        "colab": {
          "base_uri": "https://localhost:8080/"
        },
        "id": "TrCR_DEGDAZC",
        "outputId": "ad921682-b566-4a53-e928-68f1e510a947"
      },
      "execution_count": 16,
      "outputs": [
        {
          "output_type": "execute_result",
          "data": {
            "text/plain": [
              "['Pema', 'Dorji', 'Sonam', 'Karma', 'Dawa', 'Meto']"
            ]
          },
          "metadata": {},
          "execution_count": 16
        }
      ]
    },
    {
      "cell_type": "code",
      "source": [
        "#Tuple Example\n",
        "myTuple1='Pema', 'Dorji', 'Sonam', 'Wangdi', 'Karma', 'Dawa', 'Meto'\n",
        "myTuple2=('Pema', 'Dorji', 'Sonam', 'Wangdi', 'Karma', 'Dawa', 'Meto')"
      ],
      "metadata": {
        "id": "XVs4uD25DICM"
      },
      "execution_count": 19,
      "outputs": []
    },
    {
      "cell_type": "code",
      "source": [
        "myTuple1"
      ],
      "metadata": {
        "colab": {
          "base_uri": "https://localhost:8080/"
        },
        "id": "ntcsdYtpDfcO",
        "outputId": "657f555e-45ae-4a5d-c5e7-d7a65010bb9e"
      },
      "execution_count": 22,
      "outputs": [
        {
          "output_type": "execute_result",
          "data": {
            "text/plain": [
              "('Pema', 'Dorji', 'Sonam', 'Wangdi', 'Karma', 'Dawa', 'Meto')"
            ]
          },
          "metadata": {},
          "execution_count": 22
        }
      ]
    },
    {
      "cell_type": "code",
      "source": [
        "myTuple2"
      ],
      "metadata": {
        "colab": {
          "base_uri": "https://localhost:8080/"
        },
        "id": "kcsnHF7YDoJY",
        "outputId": "d60eefff-a179-461b-c094-8109eecca891"
      },
      "execution_count": 23,
      "outputs": [
        {
          "output_type": "execute_result",
          "data": {
            "text/plain": [
              "('Pema', 'Dorji', 'Sonam', 'Wangdi', 'Karma', 'Dawa', 'Meto')"
            ]
          },
          "metadata": {},
          "execution_count": 23
        }
      ]
    },
    {
      "cell_type": "code",
      "source": [
        "myTuple1[3]"
      ],
      "metadata": {
        "colab": {
          "base_uri": "https://localhost:8080/",
          "height": 35
        },
        "id": "Jx-xgeBhD4Va",
        "outputId": "3a724d9b-2388-47b2-81a3-459c8498e360"
      },
      "execution_count": 25,
      "outputs": [
        {
          "output_type": "execute_result",
          "data": {
            "text/plain": [
              "'Sonam'"
            ],
            "application/vnd.google.colaboratory.intrinsic+json": {
              "type": "string"
            }
          },
          "metadata": {},
          "execution_count": 25
        }
      ]
    },
    {
      "cell_type": "code",
      "source": [
        "myTuple1[2]"
      ],
      "metadata": {
        "colab": {
          "base_uri": "https://localhost:8080/",
          "height": 35
        },
        "id": "uhB1eu96EHND",
        "outputId": "209a6b44-e757-45d7-ed83-14dc0264b4fe"
      },
      "execution_count": 26,
      "outputs": [
        {
          "output_type": "execute_result",
          "data": {
            "text/plain": [
              "'Sonam'"
            ],
            "application/vnd.google.colaboratory.intrinsic+json": {
              "type": "string"
            }
          },
          "metadata": {},
          "execution_count": 26
        }
      ]
    },
    {
      "cell_type": "code",
      "source": [
        "#Dictionary"
      ],
      "metadata": {
        "id": "j9K4_1lAEKYj"
      },
      "execution_count": 27,
      "outputs": []
    },
    {
      "cell_type": "code",
      "source": [
        "myDict={'Namw':'Pema', 'Age':25, 'Gender':'Female'}"
      ],
      "metadata": {
        "id": "EkMgIZDjEMeQ"
      },
      "execution_count": 29,
      "outputs": []
    },
    {
      "cell_type": "code",
      "source": [
        "myDict"
      ],
      "metadata": {
        "colab": {
          "base_uri": "https://localhost:8080/"
        },
        "id": "lUzOIwUiEWUi",
        "outputId": "b15b9f2b-fe84-4eff-9834-5c85f9bbf8e9"
      },
      "execution_count": 30,
      "outputs": [
        {
          "output_type": "execute_result",
          "data": {
            "text/plain": [
              "{'Namw': 'Pema', 'Age': 25, 'Gender': 'Female'}"
            ]
          },
          "metadata": {},
          "execution_count": 30
        }
      ]
    },
    {
      "cell_type": "code",
      "source": [
        "myDict['Marks']=59\n",
        "myDict"
      ],
      "metadata": {
        "colab": {
          "base_uri": "https://localhost:8080/"
        },
        "id": "O5e2xpyWEaJP",
        "outputId": "8dd2673d-2da2-4819-c4c0-5aa615726e3a"
      },
      "execution_count": 32,
      "outputs": [
        {
          "output_type": "execute_result",
          "data": {
            "text/plain": [
              "{'Namw': 'Pema', 'Age': 25, 'Gender': 'Female', 'Marks': 59}"
            ]
          },
          "metadata": {},
          "execution_count": 32
        }
      ]
    }
  ]
}