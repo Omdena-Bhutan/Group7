{
  "nbformat": 4,
  "nbformat_minor": 0,
  "metadata": {
    "colab": {
      "provenance": [],
      "authorship_tag": "ABX9TyNdUkI3SYhgRwhZH13IBoMC",
      "include_colab_link": true
    },
    "kernelspec": {
      "name": "python3",
      "display_name": "Python 3"
    },
    "language_info": {
      "name": "python"
    }
  },
  "cells": [
    {
      "cell_type": "markdown",
      "metadata": {
        "id": "view-in-github",
        "colab_type": "text"
      },
      "source": [
        "<a href=\"https://colab.research.google.com/github/Omdena-Bhutan/02-data-structures-group-7/blob/main/assignment_data_structure.ipynb\" target=\"_parent\"><img src=\"https://colab.research.google.com/assets/colab-badge.svg\" alt=\"Open In Colab\"/></a>"
      ]
    },
    {
      "cell_type": "code",
      "execution_count": null,
      "metadata": {
        "id": "4aFsDs88JPGG"
      },
      "outputs": [],
      "source": [
        "# Creating the dictionary\n",
        "character_profile = {\n",
        "    'name': \"Alistair the Brave\",\n",
        "    'level': 1,\n",
        "    'health': 100,\n",
        "    'mana': 50,\n",
        "    'gold': 50.75,\n",
        "    'is_alive': True\n",
        "}"
      ]
    },
    {
      "cell_type": "code",
      "source": [
        "#Print name and level\n",
        "print(f\"Character Name: {character_profile['name']}, \\nLevel: {character_profile['level']}\")"
      ],
      "metadata": {
        "colab": {
          "base_uri": "https://localhost:8080/"
        },
        "id": "Sc3oETf1JhiI",
        "outputId": "876565d0-1a0b-4f42-bdfa-816cbaed8322"
      },
      "execution_count": null,
      "outputs": [
        {
          "output_type": "stream",
          "name": "stdout",
          "text": [
            "Character Name: Alistair the Brave, \n",
            "Level: 1\n"
          ]
        }
      ]
    },
    {
      "cell_type": "code",
      "source": [
        "#Update health\n",
        "character_profile['health'] = 85"
      ],
      "metadata": {
        "id": "r33PE2i8KTTY"
      },
      "execution_count": null,
      "outputs": []
    },
    {
      "cell_type": "code",
      "source": [
        "character_profile"
      ],
      "metadata": {
        "colab": {
          "base_uri": "https://localhost:8080/"
        },
        "id": "90Zg_Zb3KaTL",
        "outputId": "e800018a-6283-4ee3-eae8-3e242cd72e4d"
      },
      "execution_count": null,
      "outputs": [
        {
          "output_type": "execute_result",
          "data": {
            "text/plain": [
              "{'name': 'Alistair the Brave',\n",
              " 'level': 1,\n",
              " 'health': 85,\n",
              " 'mana': 50,\n",
              " 'gold': 50.75,\n",
              " 'is_alive': True}"
            ]
          },
          "metadata": {},
          "execution_count": 11
        }
      ]
    },
    {
      "cell_type": "code",
      "source": [
        "#Add experience\n",
        "character_profile['experience'] = 0\n",
        "character_profile"
      ],
      "metadata": {
        "colab": {
          "base_uri": "https://localhost:8080/"
        },
        "id": "ysPkXN9NKiSM",
        "outputId": "086beab3-ce27-440f-93d9-63fc1f32efce"
      },
      "execution_count": null,
      "outputs": [
        {
          "output_type": "execute_result",
          "data": {
            "text/plain": [
              "{'name': 'Alistair the Brave',\n",
              " 'level': 1,\n",
              " 'health': 85,\n",
              " 'mana': 50,\n",
              " 'gold': 50.75,\n",
              " 'is_alive': True,\n",
              " 'experience': 0}"
            ]
          },
          "metadata": {},
          "execution_count": 13
        }
      ]
    },
    {
      "cell_type": "code",
      "source": [
        "#Print final dictionary\n",
        "print(\"Final Character Profile:\")\n",
        "print(character_profile)"
      ],
      "metadata": {
        "colab": {
          "base_uri": "https://localhost:8080/"
        },
        "id": "3SaogYSOK1pq",
        "outputId": "d6444c9b-eba2-4679-c6a9-63a7b6ebe2fa"
      },
      "execution_count": null,
      "outputs": [
        {
          "output_type": "stream",
          "name": "stdout",
          "text": [
            "Final Character Profile:\n",
            "{'name': 'Alistair the Brave', 'level': 1, 'health': 85, 'mana': 50, 'gold': 50.75, 'is_alive': True, 'experience': 0}\n"
          ]
        }
      ]
    },
    {
      "cell_type": "code",
      "source": [
        "#Display in different lines\n",
        "print(\"Final Character Profile:\")\n",
        "for key, value in character_profile.items():\n",
        "    print(f\"{key}: {value}\")\n"
      ],
      "metadata": {
        "colab": {
          "base_uri": "https://localhost:8080/"
        },
        "id": "x2hOgKp4LWvr",
        "outputId": "e6df9c32-a286-4ecc-802a-55c706e0b6eb"
      },
      "execution_count": null,
      "outputs": [
        {
          "output_type": "stream",
          "name": "stdout",
          "text": [
            "Final Character Profile:\n",
            "name: Alistair the Brave\n",
            "level: 1\n",
            "health: 85\n",
            "mana: 50\n",
            "gold: 50.75\n",
            "is_alive: True\n",
            "experience: 0\n"
          ]
        }
      ]
    },
    {
      "cell_type": "code",
      "source": [
        "'''Part 2: Inventory System (Using Lists)\n",
        "Create a list named inventory to hold the items Alistair is carrying. Items should be represented as strings.\n",
        "Tasks:\n",
        "Initialize the list with a few items, for example: ['sword', 'shield', 'health potion'].\n",
        "Add a new item to the inventory (e.g., 'mana potion').\n",
        "Remove an existing item from the inventory (e.g., 'shield').\n",
        "Use a for loop to iterate through the inventory list and print each item.'''"
      ],
      "metadata": {
        "colab": {
          "base_uri": "https://localhost:8080/",
          "height": 70
        },
        "collapsed": true,
        "id": "n5lJsyNJLlkU",
        "outputId": "355ddead-fa68-4073-a3ae-ea92cc73274c"
      },
      "execution_count": null,
      "outputs": [
        {
          "output_type": "execute_result",
          "data": {
            "text/plain": [
              "\"Part 2: Inventory System (Using Lists)\\nCreate a list named inventory to hold the items Alistair is carrying. Items should be represented as strings.\\nTasks:\\nInitialize the list with a few items, for example: ['sword', 'shield', 'health potion'].\\nAdd a new item to the inventory (e.g., 'mana potion').\\nRemove an existing item from the inventory (e.g., 'shield').\\nUse a for loop to iterate through the inventory list and print each item.\""
            ],
            "application/vnd.google.colaboratory.intrinsic+json": {
              "type": "string"
            }
          },
          "metadata": {},
          "execution_count": 21
        }
      ]
    },
    {
      "cell_type": "code",
      "source": [
        "#Initialize the inventory list\n",
        "inventory = ['sword', 'shield', 'health potion']\n",
        "inventory"
      ],
      "metadata": {
        "colab": {
          "base_uri": "https://localhost:8080/"
        },
        "id": "CSTMvfKvMuvM",
        "outputId": "60fbffd9-857c-4ded-9353-248c708903bd"
      },
      "execution_count": null,
      "outputs": [
        {
          "output_type": "execute_result",
          "data": {
            "text/plain": [
              "['sword', 'shield', 'health potion']"
            ]
          },
          "metadata": {},
          "execution_count": 35
        }
      ]
    },
    {
      "cell_type": "code",
      "source": [
        "#Add a new item\n",
        "inventory.append('mana potion')\n",
        "inventory"
      ],
      "metadata": {
        "colab": {
          "base_uri": "https://localhost:8080/"
        },
        "id": "vZLJiVl3M5Zq",
        "outputId": "f6addee9-e455-430c-cbc1-2a2e47dd684d"
      },
      "execution_count": null,
      "outputs": [
        {
          "output_type": "execute_result",
          "data": {
            "text/plain": [
              "['sword', 'health potion', 'mana potion', 'mana potion']"
            ]
          },
          "metadata": {},
          "execution_count": 33
        }
      ]
    },
    {
      "cell_type": "code",
      "source": [
        "#Remove an existing item\n",
        "inventory.remove('shield')"
      ],
      "metadata": {
        "id": "KA_W5dBfNkA-"
      },
      "execution_count": null,
      "outputs": []
    },
    {
      "cell_type": "code",
      "source": [
        "#Print each item using a for loop\n",
        "print(\"Alistair's Inventory:\")\n",
        "print(\"_____________________\")\n",
        "for item in inventory:\n",
        "    print(f\"- {item}\")"
      ],
      "metadata": {
        "colab": {
          "base_uri": "https://localhost:8080/"
        },
        "id": "23GOvrw5N0D_",
        "outputId": "7d4c6eb8-0500-4be5-ace9-374317839a24"
      },
      "execution_count": null,
      "outputs": [
        {
          "output_type": "stream",
          "name": "stdout",
          "text": [
            "Alistair's Inventory:\n",
            "_____________________\n",
            "- sword\n",
            "- health potion\n"
          ]
        }
      ]
    },
    {
      "cell_type": "code",
      "source": [
        "'''Part 3: Character Stats (Using Tuples)\n",
        "Tuples are great for storing data that should not change. Create a tuple named base_stats to store Alistair's base attributes.\n",
        "\n",
        "The tuple should contain (strength, dexterity, intelligence).\n",
        "\n",
        "Choose a starting value for each attribute (e.g., (10, 8, 12)).\n",
        "\n",
        "Tasks:\n",
        "Print a statement explaining why a tuple is a good choice for base stats (because they are immutable and won't change).\n",
        "\n",
        "Access and print the value of intelligence from the base_stats tuple.\n",
        "\n",
        "Challenge: Try to change one of the values in the tuple. Observe and explain the error you receive.'''"
      ],
      "metadata": {
        "id": "jenGmMVXN-5U"
      },
      "execution_count": null,
      "outputs": []
    },
    {
      "cell_type": "code",
      "source": [
        "# Step 1: Create the tuple\n",
        "base_stats = (10, 8, 12)  # (strength, dexterity, intelligence)"
      ],
      "metadata": {
        "id": "gWkD7hQdOVGX"
      },
      "execution_count": null,
      "outputs": []
    },
    {
      "cell_type": "code",
      "source": [
        "base_stats"
      ],
      "metadata": {
        "colab": {
          "base_uri": "https://localhost:8080/"
        },
        "id": "KaQeEfQnOfvV",
        "outputId": "83f81988-5374-4262-a72c-daad64f0c0a6"
      },
      "execution_count": null,
      "outputs": [
        {
          "output_type": "execute_result",
          "data": {
            "text/plain": [
              "(10, 8, 12)"
            ]
          },
          "metadata": {},
          "execution_count": 41
        }
      ]
    },
    {
      "cell_type": "code",
      "source": [
        "#Explain why a tuple is a good choice\n",
        "print(\"Tuples are ideal for base stats because they are immutable—once defined, they cannot be changed. \\nThis ensures consistency in Alistair's foundational attributes.\")"
      ],
      "metadata": {
        "colab": {
          "base_uri": "https://localhost:8080/"
        },
        "id": "P0VeqR5VOi9Z",
        "outputId": "780a8df1-4ebc-4070-f694-ccb6e6ffbe34"
      },
      "execution_count": null,
      "outputs": [
        {
          "output_type": "stream",
          "name": "stdout",
          "text": [
            "Tuples are ideal for base stats because they are immutable—once defined, they cannot be changed. \n",
            "This ensures consistency in Alistair's foundational attributes.\n"
          ]
        }
      ]
    },
    {
      "cell_type": "code",
      "source": [
        "#Access and print intelligence\n",
        "print(f\"Alistair's Intelligence: {base_stats[2]}\")"
      ],
      "metadata": {
        "colab": {
          "base_uri": "https://localhost:8080/"
        },
        "id": "7cc36ym9Ounc",
        "outputId": "561d35bd-adc7-4ea2-9267-23a1bb65bc0e"
      },
      "execution_count": null,
      "outputs": [
        {
          "output_type": "stream",
          "name": "stdout",
          "text": [
            "Alistair's Intelligence: 12\n"
          ]
        }
      ]
    },
    {
      "cell_type": "code",
      "source": [
        "#Challenge – Try to change a value\n",
        "try:\n",
        "    base_stats[0] = 15  # Attempting to change strength\n",
        "except TypeError as e:\n",
        "    print(\"\\nError encountered when trying to modify the tuple:\")\n",
        "    print(e)"
      ],
      "metadata": {
        "id": "lxnQp8yYOzqy"
      },
      "execution_count": null,
      "outputs": []
    },
    {
      "cell_type": "code",
      "source": [
        "'''Part 4: Quest Log (Using Sets)\n",
        "A set is ideal for tracking unique items. Create a set named quest_log to store the titles of Alistair's active quests.\n",
        "\n",
        "Tasks:\n",
        "Initialize the set with a few quests, for example: {'Defeat the Goblin King', 'Find the Lost Amulet'}.\n",
        "\n",
        "Add a new quest to the log (e.g., 'Deliver the Old Scroll').\n",
        "\n",
        "Add a quest that is already in the set. Notice how the set handles duplicates.\n",
        "\n",
        "Remove a completed quest from the log (e.g., 'Find the Lost Amulet').\n",
        "\n",
        "Print the final quest_log set.'''"
      ],
      "metadata": {
        "id": "cYqqFqDGPSUv"
      },
      "execution_count": null,
      "outputs": []
    },
    {
      "cell_type": "code",
      "source": [
        "#Initialize the quest log set\n",
        "quest_log = {'Defeat the Goblin King', 'Find the Lost Amulet'}"
      ],
      "metadata": {
        "id": "vN7RG9DHPacu"
      },
      "execution_count": null,
      "outputs": []
    },
    {
      "cell_type": "code",
      "source": [
        "#Add a new quest\n",
        "quest_log.add('Deliver the Old Scroll')"
      ],
      "metadata": {
        "id": "v0738B-aPuNQ"
      },
      "execution_count": null,
      "outputs": []
    },
    {
      "cell_type": "code",
      "source": [
        "quest_log"
      ],
      "metadata": {
        "colab": {
          "base_uri": "https://localhost:8080/"
        },
        "id": "Nbh02kAlPyTE",
        "outputId": "4e578bba-f197-4150-b6b4-14144553a2de"
      },
      "execution_count": null,
      "outputs": [
        {
          "output_type": "execute_result",
          "data": {
            "text/plain": [
              "{'Defeat the Goblin King', 'Deliver the Old Scroll', 'Find the Lost Amulet'}"
            ]
          },
          "metadata": {},
          "execution_count": 51
        }
      ]
    },
    {
      "cell_type": "code",
      "source": [
        "#Add a duplicate quest\n",
        "quest_log.add('Defeat the Goblin King')  # This won't change the set\n",
        "quest_log"
      ],
      "metadata": {
        "colab": {
          "base_uri": "https://localhost:8080/"
        },
        "id": "4Ia5i8ukP0yK",
        "outputId": "4053845f-2edf-46e0-a20f-3c8d6189403a"
      },
      "execution_count": null,
      "outputs": [
        {
          "output_type": "execute_result",
          "data": {
            "text/plain": [
              "{'Defeat the Goblin King', 'Deliver the Old Scroll', 'Find the Lost Amulet'}"
            ]
          },
          "metadata": {},
          "execution_count": 53
        }
      ]
    },
    {
      "cell_type": "code",
      "source": [
        "#Remove a completed quest\n",
        "quest_log.remove('Find the Lost Amulet')\n",
        "quest_log"
      ],
      "metadata": {
        "colab": {
          "base_uri": "https://localhost:8080/"
        },
        "id": "ZDR3LGwXQAhJ",
        "outputId": "92615519-fd72-45d4-cd68-ebb2004df285"
      },
      "execution_count": null,
      "outputs": [
        {
          "output_type": "execute_result",
          "data": {
            "text/plain": [
              "{'Defeat the Goblin King', 'Deliver the Old Scroll'}"
            ]
          },
          "metadata": {},
          "execution_count": 54
        }
      ]
    },
    {
      "cell_type": "code",
      "source": [
        "#Print the final quest log\n",
        "print(\"Alistair's Active Quests:\")\n",
        "for quest in quest_log:\n",
        "    print(f\"- {quest}\")"
      ],
      "metadata": {
        "colab": {
          "base_uri": "https://localhost:8080/"
        },
        "id": "cZbZ5bToQGUI",
        "outputId": "3410fc88-f4bf-4eca-84d6-09e1a41eee26"
      },
      "execution_count": null,
      "outputs": [
        {
          "output_type": "stream",
          "name": "stdout",
          "text": [
            "Alistair's Active Quests:\n",
            "- Deliver the Old Scroll\n",
            "- Defeat the Goblin King\n"
          ]
        }
      ]
    },
    {
      "cell_type": "code",
      "source": [
        "#Putting It All Together\n",
        "# -------------------------------\n",
        "\n",
        "# Creating a master dictionary to hold all character data\n",
        "character_sheet = {\n",
        "    'profile': character_profile,\n",
        "    'inventory': inventory,\n",
        "    'stats': base_stats,\n",
        "    'quests': quest_log\n",
        "}"
      ],
      "metadata": {
        "id": "cCM6XnhbQN_d"
      },
      "execution_count": null,
      "outputs": []
    },
    {
      "cell_type": "code",
      "source": [
        "character_sheet"
      ],
      "metadata": {
        "colab": {
          "base_uri": "https://localhost:8080/"
        },
        "id": "ZAG22sKIQ05f",
        "outputId": "aea2e513-dfde-4c1b-f0f1-e7a9c6964c9c"
      },
      "execution_count": null,
      "outputs": [
        {
          "output_type": "execute_result",
          "data": {
            "text/plain": [
              "{'profile': {'name': 'Alistair the Brave',\n",
              "  'level': 1,\n",
              "  'health': 85,\n",
              "  'mana': 50,\n",
              "  'gold': 50.75,\n",
              "  'is_alive': True,\n",
              "  'experience': 0},\n",
              " 'inventory': ['sword', 'health potion'],\n",
              " 'stats': (10, 8, 12),\n",
              " 'quests': {'Defeat the Goblin King', 'Deliver the Old Scroll'}}"
            ]
          },
          "metadata": {},
          "execution_count": 57
        }
      ]
    },
    {
      "cell_type": "code",
      "source": [
        "# Print the complete character sheet\n",
        "print(\"\\nFull Character Sheet:\")\n",
        "for key, value in character_sheet.items():\n",
        "    print(f\"{key.capitalize()}: {value}\")"
      ],
      "metadata": {
        "colab": {
          "base_uri": "https://localhost:8080/"
        },
        "id": "WXJxMb5CQ7U7",
        "outputId": "84164326-d4af-4832-f866-1514f7e05446"
      },
      "execution_count": null,
      "outputs": [
        {
          "output_type": "stream",
          "name": "stdout",
          "text": [
            "\n",
            "Full Character Sheet:\n",
            "Profile: {'name': 'Alistair the Brave', 'level': 1, 'health': 85, 'mana': 50, 'gold': 50.75, 'is_alive': True, 'experience': 0}\n",
            "Inventory: ['sword', 'health potion']\n",
            "Stats: (10, 8, 12)\n",
            "Quests: {'Deliver the Old Scroll', 'Defeat the Goblin King'}\n"
          ]
        }
      ]
    }
  ]
}