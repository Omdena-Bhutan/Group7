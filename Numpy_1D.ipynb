{
  "metadata": {
    "kernelspec": {
      "name": "python",
      "display_name": "Python (Pyodide)",
      "language": "python"
    },
    "language_info": {
      "codemirror_mode": {
        "name": "python",
        "version": 3
      },
      "file_extension": ".py",
      "mimetype": "text/x-python",
      "name": "python",
      "nbconvert_exporter": "python",
      "pygments_lexer": "ipython3",
      "version": "3.8"
    },
    "colab": {
      "provenance": [],
      "include_colab_link": true
    }
  },
  "nbformat_minor": 0,
  "nbformat": 4,
  "cells": [
    {
      "cell_type": "markdown",
      "metadata": {
        "id": "view-in-github",
        "colab_type": "text"
      },
      "source": [
        "<a href=\"https://colab.research.google.com/github/Omdena-Bhutan/02-data-structures-group-7/blob/main/Numpy_1D.ipynb\" target=\"_parent\"><img src=\"https://colab.research.google.com/assets/colab-badge.svg\" alt=\"Open In Colab\"/></a>"
      ]
    },
    {
      "cell_type": "markdown",
      "source": [
        "# 1D Numpy in Python\n",
        "\n",
        "Estimated time needed: **40** minutes\n",
        "\n",
        "## Objectives\n",
        "\n",
        "After completing this lab you will be able to:\n",
        "\n",
        "*   Import and use the `numpy` library\n",
        "*   Perform operations with `numpy`\n"
      ],
      "metadata": {
        "id": "qEtpLvB9W2iT"
      }
    },
    {
      "cell_type": "markdown",
      "source": [
        "<h2>Table of Contents</h2>\n",
        "<div class=\"alert alert-block alert-info\" style=\"margin-thttps://op/?utm_medium=Exinfluencer&utm_source=Exinfluencer&utm_content=000026UJ&utm_term=10006555&utm_id=NA-SkillsNetwork-Channel-SkillsNetworkCoursesIBMDeveloperSkillsNetworkPY0101ENSkillsNetwork19487395-2021-01-01: 20px\">\n",
        "    <ul>\n",
        "        <li>\n",
        "            <a href=\"#What-is-Numpy?\">What is Numpy?</a>\n",
        "            <ul>\n",
        "                <li><a href=\"#Type\">Type</a></li>\n",
        "                <li><a href=\"#Assign-Value\">Assign Value</a></li>\n",
        "                <li><a href=\"#Slicing\">Slicing</a></li>\n",
        "                <li><a href=\"#Assign-Value-with-List\">Assign Value with List</a></li>\n",
        "                <li><a href=\"#Other-Attributes\">Other Attributes</a></li>\n",
        "            </ul>\n",
        "        </li>\n",
        "        <li>\n",
        "            <a href=\"#Numpy-Array-Operations\">Numpy Array Operations</a>\n",
        "            <ul>\n",
        "                <li><a href=\"#Array-Addition\">Array Addition</a></li>\n",
        "                <li><a href=\"#Array-Multiplication\">Array Multiplication</a></li>\n",
        "                <li><a href=\"#Product-of-Two-Numpy-Arrays\">Product of Two Numpy Arrays</a></li>\n",
        "                <li><a href=\"#Dot-Product\">Dot Product</a></li>\n",
        "                <li><a href=\"#Adding-Constant-to-a-Numpy-Array\">Adding Constant to a Numpy Array</a></li>\n",
        "            </ul>\n",
        "        </li>\n",
        "        <li><a href=\"#Mathematical-Functions\">Mathematical Functions</a></li>\n",
        "        <li><a href=\"#Linspace\">Linspace</a></li>\n",
        "    </ul>\n",
        "\n",
        "</div>\n",
        "\n",
        "<hr>\n"
      ],
      "metadata": {
        "id": "ES0p5M2HW2iY"
      }
    },
    {
      "cell_type": "markdown",
      "source": [
        "## What is Numpy?\n"
      ],
      "metadata": {
        "id": "0_cm4CheW2iZ"
      }
    },
    {
      "cell_type": "markdown",
      "source": [
        "NumPy is a Python library used for working with arrays, linear algebra, fourier transform, and matrices. NumPy stands for Numerical Python and it is an open source project. The array object in NumPy is called **ndarray**, it provides a lot of supporting functions that make working with ndarray very easy.\n",
        "\n",
        "Arrays are very frequently used in data science, where speed and resources are very important.\n",
        "\n",
        "NumPy is usually imported under the np alias.\n",
        "\n",
        "It's usually fixed in size and each element is of the same type. We can cast a list to a numpy array by first importing `numpy`:\n"
      ],
      "metadata": {
        "id": "PhBNYpkpW2ia"
      }
    },
    {
      "cell_type": "code",
      "source": [
        "# import numpy library\n",
        "\n",
        "import numpy as np"
      ],
      "metadata": {
        "trusted": true,
        "id": "PHndT0V-W2ia"
      },
      "outputs": [],
      "execution_count": 5
    },
    {
      "cell_type": "markdown",
      "source": [
        "We then cast the list as follows:\n"
      ],
      "metadata": {
        "id": "hyo00Ck5W2ic"
      }
    },
    {
      "cell_type": "code",
      "source": [
        "# Create a numpy array\n",
        "\n",
        "a = np.array([0, 1, 2, 3, 4])\n",
        "a"
      ],
      "metadata": {
        "trusted": true,
        "colab": {
          "base_uri": "https://localhost:8080/"
        },
        "id": "3My-rx6AW2ic",
        "outputId": "a0de6ebc-4568-4a4a-a7f7-be50e737c785"
      },
      "outputs": [
        {
          "output_type": "execute_result",
          "data": {
            "text/plain": [
              "array([0, 1, 2, 3, 4])"
            ]
          },
          "metadata": {},
          "execution_count": 6
        }
      ],
      "execution_count": 6
    },
    {
      "cell_type": "markdown",
      "source": [
        "Each element is of the same type, in this case integers:\n"
      ],
      "metadata": {
        "id": "cDDU56Q-W2id"
      }
    },
    {
      "cell_type": "markdown",
      "source": [
        "<img src=\"https://cf-courses-data.s3.us.cloud-object-storage.appdomain.cloud/IBMDeveloperSkillsNetwork-PY0101EN-SkillsNetwork/labs/Module%205/images/NumOneNp.png\" width=\"500\">\n"
      ],
      "metadata": {
        "id": "bnrE8J1eW2ie"
      }
    },
    {
      "cell_type": "markdown",
      "source": [
        "As with lists, we can access each element via a square bracket:\n"
      ],
      "metadata": {
        "id": "gVKFrMgGW2ie"
      }
    },
    {
      "cell_type": "code",
      "source": [
        "# Print each element\n",
        "\n",
        "print(\"a[0]:\", a[0])\n",
        "print(\"a[1]:\", a[1])\n",
        "print(\"a[2]:\", a[2])\n",
        "print(\"a[3]:\", a[3])\n",
        "print(\"a[4]:\", a[4])"
      ],
      "metadata": {
        "trusted": true,
        "colab": {
          "base_uri": "https://localhost:8080/"
        },
        "id": "MndFspZdW2if",
        "outputId": "810e18a1-7daf-418f-c4df-7b5e2089ebbc"
      },
      "outputs": [
        {
          "output_type": "stream",
          "name": "stdout",
          "text": [
            "a[0]: 0\n",
            "a[1]: 1\n",
            "a[2]: 2\n",
            "a[3]: 3\n",
            "a[4]: 4\n"
          ]
        }
      ],
      "execution_count": 7
    },
    {
      "cell_type": "code",
      "source": [
        "for z in a:\n",
        "    print(\"index 0f a at [\",z,\"]-\",z)"
      ],
      "metadata": {
        "id": "kgPoHODTOGBq",
        "outputId": "e870ea66-8240-420d-b046-f625eaad0885",
        "colab": {
          "base_uri": "https://localhost:8080/"
        }
      },
      "execution_count": 12,
      "outputs": [
        {
          "output_type": "stream",
          "name": "stdout",
          "text": [
            "index 0f a at [ 0 ]- 0\n",
            "index 0f a at [ 1 ]- 1\n",
            "index 0f a at [ 2 ]- 2\n",
            "index 0f a at [ 3 ]- 3\n",
            "index 0f a at [ 4 ]- 4\n"
          ]
        }
      ]
    },
    {
      "cell_type": "code",
      "source": [
        "a[4]\n",
        "a"
      ],
      "metadata": {
        "colab": {
          "base_uri": "https://localhost:8080/"
        },
        "id": "H3SkQhlppQqs",
        "outputId": "8d73e272-9123-4ee2-878d-49c30cf32fb4"
      },
      "execution_count": 15,
      "outputs": [
        {
          "output_type": "execute_result",
          "data": {
            "text/plain": [
              "array([0, 1, 2, 3, 4])"
            ]
          },
          "metadata": {},
          "execution_count": 15
        }
      ]
    },
    {
      "cell_type": "markdown",
      "source": [
        "#### Checking NumPy Version\n",
        "\n",
        "The version string is stored under __version__ attribute.\n"
      ],
      "metadata": {
        "id": "yfyjR_rmW2if"
      }
    },
    {
      "cell_type": "code",
      "source": [
        "print('The numpy version I am using is ', np.__version__)"
      ],
      "metadata": {
        "trusted": true,
        "colab": {
          "base_uri": "https://localhost:8080/"
        },
        "id": "uU_FPsNbW2ig",
        "outputId": "42d60ef8-bcce-4098-ea68-ee6de5d2aefe"
      },
      "outputs": [
        {
          "output_type": "stream",
          "name": "stdout",
          "text": [
            "The numpy version i am using is  2.0.2\n"
          ]
        }
      ],
      "execution_count": 18
    },
    {
      "cell_type": "markdown",
      "source": [
        "### Type\n"
      ],
      "metadata": {
        "id": "1zT3NBqZW2ig"
      }
    },
    {
      "cell_type": "markdown",
      "source": [
        "If we check the type of the array we get <b>numpy.ndarray</b>:\n"
      ],
      "metadata": {
        "id": "mufKibWWW2ig"
      }
    },
    {
      "cell_type": "code",
      "source": [
        "# Check the type of the array\n",
        "\n",
        "type(a)"
      ],
      "metadata": {
        "trusted": true,
        "colab": {
          "base_uri": "https://localhost:8080/"
        },
        "id": "F8hpFNI4W2ih",
        "outputId": "c012eeb3-7e19-40ba-9370-82de3391a3aa"
      },
      "outputs": [
        {
          "output_type": "execute_result",
          "data": {
            "text/plain": [
              "numpy.ndarray"
            ]
          },
          "metadata": {},
          "execution_count": 19
        }
      ],
      "execution_count": 19
    },
    {
      "cell_type": "markdown",
      "source": [
        "As numpy arrays contain data of the same type, we can use the attribute \"dtype\" to obtain the data type of the array’s elements. In this case, it's a 64-bit integer:\n"
      ],
      "metadata": {
        "id": "A3wHc96fW2ih"
      }
    },
    {
      "cell_type": "code",
      "source": [
        "# Check the type of the values stored in numpy array\n",
        "\n",
        "x=a.dtype\n",
        "print(\"The datatype is \",x)"
      ],
      "metadata": {
        "trusted": true,
        "colab": {
          "base_uri": "https://localhost:8080/"
        },
        "id": "af7BhS6DW2ii",
        "outputId": "dd407bcb-1ac8-4d35-f7d1-bc005928f32c"
      },
      "outputs": [
        {
          "output_type": "stream",
          "name": "stdout",
          "text": [
            "The datatype is  int64\n"
          ]
        }
      ],
      "execution_count": 22
    },
    {
      "cell_type": "markdown",
      "source": [
        "### Try it yourself\n",
        "\n",
        "Check the type of the array and Value type for the given array **b**\n"
      ],
      "metadata": {
        "id": "rxvLZkqYW2ii"
      }
    },
    {
      "cell_type": "code",
      "source": [
        "b = np.array([3.1, 11.02, 6.2, 213.2, 5.2])\n",
        "type(b)"
      ],
      "metadata": {
        "colab": {
          "base_uri": "https://localhost:8080/"
        },
        "id": "FQf7pL7hAR6L",
        "outputId": "5591a7c6-54fc-4927-b935-3d3dffb57c54"
      },
      "execution_count": 24,
      "outputs": [
        {
          "output_type": "execute_result",
          "data": {
            "text/plain": [
              "numpy.ndarray"
            ]
          },
          "metadata": {},
          "execution_count": 24
        }
      ]
    },
    {
      "cell_type": "code",
      "source": [
        "type(b)"
      ],
      "metadata": {
        "colab": {
          "base_uri": "https://localhost:8080/"
        },
        "id": "zytRftUMA-jC",
        "outputId": "cf180dcd-f8a4-4caa-c764-b84fbac4f324"
      },
      "execution_count": null,
      "outputs": [
        {
          "output_type": "execute_result",
          "data": {
            "text/plain": [
              "numpy.ndarray"
            ]
          },
          "metadata": {},
          "execution_count": 10
        }
      ]
    },
    {
      "cell_type": "code",
      "source": [
        "# Enter your code here\n",
        "b.dtype"
      ],
      "metadata": {
        "trusted": true,
        "colab": {
          "base_uri": "https://localhost:8080/"
        },
        "id": "MTQnxESlW2ii",
        "outputId": "71a162a4-84f3-4e16-da84-f8001d4ea3f7"
      },
      "outputs": [
        {
          "output_type": "execute_result",
          "data": {
            "text/plain": [
              "dtype('float64')"
            ]
          },
          "metadata": {},
          "execution_count": 11
        }
      ],
      "execution_count": null
    },
    {
      "cell_type": "markdown",
      "source": [
        "<details><summary>Click here for the solution</summary>\n",
        "\n",
        "```python\n",
        "type(b)\n",
        "    \n",
        "b.dtype\n",
        "    \n",
        "If we examine the attribute dtype we see float 64, as the elements are not integers:\n",
        "```\n",
        "\n",
        "</details>\n",
        "\n"
      ],
      "metadata": {
        "id": "w4M0aVCAW2ij"
      }
    },
    {
      "cell_type": "markdown",
      "source": [
        "### Assign value\n"
      ],
      "metadata": {
        "id": "9vKHFOaLW2ij"
      }
    },
    {
      "cell_type": "markdown",
      "source": [
        "We can change the value of the array. Consider the array <code>c</code>:\n"
      ],
      "metadata": {
        "id": "ZlfA2vRMW2ij"
      }
    },
    {
      "cell_type": "code",
      "source": [
        "# Create numpy array\n",
        "\n",
        "c = np.array([20, 1, 2, 3, 4])\n",
        "c"
      ],
      "metadata": {
        "trusted": true,
        "colab": {
          "base_uri": "https://localhost:8080/"
        },
        "id": "CejsfCNRW2ik",
        "outputId": "cb28697a-d357-4c1b-8d10-50650c569433"
      },
      "outputs": [
        {
          "output_type": "execute_result",
          "data": {
            "text/plain": [
              "array([20,  1,  2,  3,  4])"
            ]
          },
          "metadata": {},
          "execution_count": 27
        }
      ],
      "execution_count": 27
    },
    {
      "cell_type": "markdown",
      "source": [
        "We can change the first element of the array to 100 as follows:\n"
      ],
      "metadata": {
        "id": "OlwQP7R6W2ik"
      }
    },
    {
      "cell_type": "code",
      "source": [
        "# Assign the first element to 100\n",
        "\n",
        "c[0] = 100\n",
        "c"
      ],
      "metadata": {
        "trusted": true,
        "colab": {
          "base_uri": "https://localhost:8080/",
          "height": 193
        },
        "id": "jCLGSb84W2ik",
        "outputId": "ef82e5a4-89c8-4156-b4cc-5bed4ed1d21d"
      },
      "outputs": [
        {
          "output_type": "error",
          "ename": "NameError",
          "evalue": "name 'c' is not defined",
          "traceback": [
            "\u001b[0;31m---------------------------------------------------------------------------\u001b[0m",
            "\u001b[0;31mNameError\u001b[0m                                 Traceback (most recent call last)",
            "\u001b[0;32m/tmp/ipython-input-2586163936.py\u001b[0m in \u001b[0;36m<cell line: 0>\u001b[0;34m()\u001b[0m\n\u001b[1;32m      1\u001b[0m \u001b[0;31m# Assign the first element to 100\u001b[0m\u001b[0;34m\u001b[0m\u001b[0;34m\u001b[0m\u001b[0m\n\u001b[1;32m      2\u001b[0m \u001b[0;34m\u001b[0m\u001b[0m\n\u001b[0;32m----> 3\u001b[0;31m \u001b[0mc\u001b[0m\u001b[0;34m[\u001b[0m\u001b[0;36m0\u001b[0m\u001b[0;34m]\u001b[0m \u001b[0;34m=\u001b[0m \u001b[0;36m100\u001b[0m\u001b[0;34m\u001b[0m\u001b[0;34m\u001b[0m\u001b[0m\n\u001b[0m\u001b[1;32m      4\u001b[0m \u001b[0mc\u001b[0m\u001b[0;34m\u001b[0m\u001b[0;34m\u001b[0m\u001b[0m\n",
            "\u001b[0;31mNameError\u001b[0m: name 'c' is not defined"
          ]
        }
      ],
      "execution_count": 26
    },
    {
      "cell_type": "markdown",
      "source": [
        "We can change the 5th element of the array to 0 as follows:\n"
      ],
      "metadata": {
        "id": "S8_tfOAoW2il"
      }
    },
    {
      "cell_type": "code",
      "source": [
        "# Assign  0 to the 5th element\n",
        "\n",
        "c[4] = 0\n",
        "c"
      ],
      "metadata": {
        "trusted": true,
        "colab": {
          "base_uri": "https://localhost:8080/"
        },
        "id": "5WGQbONHW2il",
        "outputId": "47f5abec-e5af-4814-c456-c0053d15e233"
      },
      "outputs": [
        {
          "output_type": "execute_result",
          "data": {
            "text/plain": [
              "array([20,  1,  2,  3,  0])"
            ]
          },
          "metadata": {},
          "execution_count": 28
        }
      ],
      "execution_count": 28
    },
    {
      "cell_type": "markdown",
      "source": [
        "### Try it yourself\n",
        "\n",
        "Assign the value 20 for the second element in the given array.\n"
      ],
      "metadata": {
        "id": "Jc6hrz4kW2im"
      }
    },
    {
      "cell_type": "code",
      "source": [
        "a = np.array([10, 2, 30, 40,50])\n",
        "\n",
        "# Enter your code here\n",
        "a[1]=20\n"
      ],
      "metadata": {
        "trusted": true,
        "id": "BocoYgL6W2im"
      },
      "outputs": [],
      "execution_count": 29
    },
    {
      "cell_type": "markdown",
      "source": [
        "<details><summary>Click here for the solution</summary>\n",
        "\n",
        "```python\n",
        "a[1]=20\n",
        "a\n",
        "   \n",
        "```\n",
        "\n",
        "</details>\n"
      ],
      "metadata": {
        "id": "1NlKZ6FpW2im"
      }
    },
    {
      "cell_type": "markdown",
      "source": [
        "### Slicing\n"
      ],
      "metadata": {
        "id": "w6pIB6KXW2in"
      }
    },
    {
      "cell_type": "markdown",
      "source": [
        "Like lists, we can slice the numpy array. Slicing in python means taking the elements from the given index to another given index.\n",
        "\n",
        "We pass slice like this: [start:end].The element at end index is not being included in the output.\n",
        "\n",
        "We can select the elements from 1 to 3 and assign it to a new numpy array <code>d</code> as follows:\n"
      ],
      "metadata": {
        "id": "CKIqocW-W2in"
      }
    },
    {
      "cell_type": "code",
      "source": [
        "# Slicing the numpy array\n",
        "\n",
        "d = c[1:4]\n",
        "d"
      ],
      "metadata": {
        "trusted": true,
        "colab": {
          "base_uri": "https://localhost:8080/"
        },
        "id": "gZWpNfcKW2in",
        "outputId": "0341b008-8128-4236-e425-9a366a0fe6a7"
      },
      "outputs": [
        {
          "output_type": "execute_result",
          "data": {
            "text/plain": [
              "array([1, 2, 3])"
            ]
          },
          "metadata": {},
          "execution_count": 30
        }
      ],
      "execution_count": 30
    },
    {
      "cell_type": "markdown",
      "source": [
        "We can assign the corresponding indexes to new values as follows:\n"
      ],
      "metadata": {
        "id": "5XyYTvkTW2io"
      }
    },
    {
      "cell_type": "code",
      "source": [
        "# Set the fourth element and fifth element to 300 and 400\n",
        "\n",
        "c[3:5] = 300, 400\n",
        "c"
      ],
      "metadata": {
        "trusted": true,
        "colab": {
          "base_uri": "https://localhost:8080/"
        },
        "id": "I-hCtNoMW2ip",
        "outputId": "5c6a8e42-ab82-46a0-cbc9-8fb7dbbcf8ec"
      },
      "outputs": [
        {
          "output_type": "execute_result",
          "data": {
            "text/plain": [
              "array([ 20,   1,   2, 300, 400])"
            ]
          },
          "metadata": {},
          "execution_count": 31
        }
      ],
      "execution_count": 31
    },
    {
      "cell_type": "markdown",
      "source": [
        "We can also define the steps in slicing, like this: [start:end:step].\n"
      ],
      "metadata": {
        "id": "bsXEpT6GW2ip"
      }
    },
    {
      "cell_type": "code",
      "source": [
        "arr = np.array([1, 2, 3, 4, 5, 6, 7])\n",
        "\n",
        "print(arr[1:5:2])"
      ],
      "metadata": {
        "trusted": true,
        "colab": {
          "base_uri": "https://localhost:8080/"
        },
        "id": "v4I-Sv4yW2ip",
        "outputId": "a18070e3-9d77-4f19-e654-1291dfcb49ad"
      },
      "outputs": [
        {
          "output_type": "stream",
          "name": "stdout",
          "text": [
            "[2 4]\n"
          ]
        }
      ],
      "execution_count": 34
    },
    {
      "cell_type": "markdown",
      "source": [
        "If we don't pass start, it's considered 0\n"
      ],
      "metadata": {
        "id": "cuUp9cbRW2iq"
      }
    },
    {
      "cell_type": "code",
      "source": [
        "print(arr[:4])"
      ],
      "metadata": {
        "trusted": true,
        "colab": {
          "base_uri": "https://localhost:8080/"
        },
        "id": "PwtuO1HtW2iz",
        "outputId": "3b684746-9c7b-4793-904e-efac8bb93678"
      },
      "outputs": [
        {
          "output_type": "stream",
          "name": "stdout",
          "text": [
            "[1 2 3 4]\n"
          ]
        }
      ],
      "execution_count": 35
    },
    {
      "cell_type": "markdown",
      "source": [
        "If we don't pass end it's considered till the length of array\n"
      ],
      "metadata": {
        "id": "FeFi9ctSW2i0"
      }
    },
    {
      "cell_type": "code",
      "source": [
        "print(arr[4:])"
      ],
      "metadata": {
        "trusted": true,
        "colab": {
          "base_uri": "https://localhost:8080/"
        },
        "id": "rrpRzrA0W2i0",
        "outputId": "3e2b8219-06ca-4804-ef74-4ea3ce39c35a"
      },
      "outputs": [
        {
          "output_type": "stream",
          "name": "stdout",
          "text": [
            "[5 6 7]\n"
          ]
        }
      ],
      "execution_count": 36
    },
    {
      "cell_type": "markdown",
      "source": [
        "If we don't pass step it's considered 1\n"
      ],
      "metadata": {
        "id": "510zAv8GW2i0"
      }
    },
    {
      "cell_type": "code",
      "source": [
        "print(arr[1:5:])"
      ],
      "metadata": {
        "trusted": true,
        "colab": {
          "base_uri": "https://localhost:8080/"
        },
        "id": "HT0WN0TIW2i1",
        "outputId": "9d2a6099-d614-44d4-828b-241707401e92"
      },
      "outputs": [
        {
          "output_type": "stream",
          "name": "stdout",
          "text": [
            "[2 3 4 5]\n"
          ]
        }
      ],
      "execution_count": 37
    },
    {
      "cell_type": "markdown",
      "source": [
        "### Try it yourself\n",
        "\n",
        "Print the even elements in the given array.\n"
      ],
      "metadata": {
        "id": "qqcuwW0CW2i1"
      }
    },
    {
      "cell_type": "code",
      "source": [
        "arr = np.array([1, 2, 3, 4, 5, 6, 7, 8])\n",
        "\n",
        "# Enter your code here\n",
        "print(arr[1:8:2])#ecen\n",
        "print(arr[0:8:2])\n"
      ],
      "metadata": {
        "trusted": true,
        "id": "CCpUScivW2i1",
        "outputId": "9551d865-ab26-47f5-c071-3122de00e0f6",
        "colab": {
          "base_uri": "https://localhost:8080/"
        }
      },
      "outputs": [
        {
          "output_type": "stream",
          "name": "stdout",
          "text": [
            "[2 4 6 8]\n",
            "[1 3 5 7]\n"
          ]
        }
      ],
      "execution_count": 43
    },
    {
      "cell_type": "markdown",
      "source": [
        "<details><summary>Click here for the solution</summary>\n",
        "\n",
        "```python\n",
        "print(arr[1:8:2])\n",
        "\n",
        "    \n",
        "```\n",
        "\n",
        "</details>\n"
      ],
      "metadata": {
        "id": "ssES8e5gW2i1"
      }
    },
    {
      "cell_type": "markdown",
      "source": [
        "### Assign Value with List\n"
      ],
      "metadata": {
        "id": "ih8l1P86W2i1"
      }
    },
    {
      "cell_type": "markdown",
      "source": [
        "Similarly, we can use a list to select more than one specific index.\n",
        "The list `select` contains several values:\n"
      ],
      "metadata": {
        "id": "24l_Whm-W2i1"
      }
    },
    {
      "cell_type": "code",
      "source": [
        "# Create the index list\n",
        "\n",
        "select = [0, 2, 3, 4]\n",
        "select"
      ],
      "metadata": {
        "trusted": true,
        "colab": {
          "base_uri": "https://localhost:8080/"
        },
        "id": "haay6SkMW2i2",
        "outputId": "badda35a-ffb7-49ca-8fd9-ed71e72731e0"
      },
      "outputs": [
        {
          "output_type": "execute_result",
          "data": {
            "text/plain": [
              "[0, 2, 3, 4]"
            ]
          },
          "metadata": {},
          "execution_count": 44
        }
      ],
      "execution_count": 44
    },
    {
      "cell_type": "markdown",
      "source": [
        "We can use the list as an argument in the brackets. The output is the elements corresponding to the particular indexes:\n"
      ],
      "metadata": {
        "id": "t12Ij5oTW2i2"
      }
    },
    {
      "cell_type": "code",
      "source": [
        "# Use list to select elements\n",
        "\n",
        "d = c[select]\n",
        "d"
      ],
      "metadata": {
        "trusted": true,
        "colab": {
          "base_uri": "https://localhost:8080/"
        },
        "id": "EbVv_dPYW2i2",
        "outputId": "3ddb7066-e40a-4f62-91a7-d0449cf3af0e"
      },
      "outputs": [
        {
          "output_type": "execute_result",
          "data": {
            "text/plain": [
              "array([ 20,   2, 300, 400])"
            ]
          },
          "metadata": {},
          "execution_count": 45
        }
      ],
      "execution_count": 45
    },
    {
      "cell_type": "markdown",
      "source": [
        "We can assign the specified elements to a new value. For example, we can assign the values to 100 000 as follows:\n"
      ],
      "metadata": {
        "id": "eGtl14cXW2i2"
      }
    },
    {
      "cell_type": "code",
      "source": [
        "# Assign the specified elements to new value\n",
        "\n",
        "c[select] = 100000\n",
        "c"
      ],
      "metadata": {
        "trusted": true,
        "colab": {
          "base_uri": "https://localhost:8080/"
        },
        "id": "5ssUBzW8W2i3",
        "outputId": "9bb811bd-2ed6-43ed-d7ce-7d19cf9c0e23"
      },
      "outputs": [
        {
          "output_type": "execute_result",
          "data": {
            "text/plain": [
              "array([100000,      1, 100000, 100000, 100000])"
            ]
          },
          "metadata": {},
          "execution_count": 46
        }
      ],
      "execution_count": 46
    },
    {
      "cell_type": "markdown",
      "source": [
        "### Other Attributes\n"
      ],
      "metadata": {
        "id": "20N088pVW2i3"
      }
    },
    {
      "cell_type": "markdown",
      "source": [
        "Let's review some basic array attributes using the array <code>a</code>:\n"
      ],
      "metadata": {
        "id": "NHEg-qYdW2i3"
      }
    },
    {
      "cell_type": "code",
      "source": [
        "# Create a numpy array\n",
        "\n",
        "a = np.array([0, 1, 2, 3, 4])\n",
        "a"
      ],
      "metadata": {
        "trusted": true,
        "colab": {
          "base_uri": "https://localhost:8080/"
        },
        "id": "cge1YL7_W2i4",
        "outputId": "6b4b4182-5e99-492c-9b69-b0648395038c"
      },
      "outputs": [
        {
          "output_type": "execute_result",
          "data": {
            "text/plain": [
              "array([0, 1, 2, 3, 4])"
            ]
          },
          "metadata": {},
          "execution_count": 47
        }
      ],
      "execution_count": 47
    },
    {
      "cell_type": "markdown",
      "source": [
        "The attribute <code>size</code> is the number of elements in the array:\n"
      ],
      "metadata": {
        "id": "_RINDNf7W2i4"
      }
    },
    {
      "cell_type": "code",
      "source": [
        "# Get the size of numpy array\n",
        "\n",
        "a.size"
      ],
      "metadata": {
        "trusted": true,
        "colab": {
          "base_uri": "https://localhost:8080/"
        },
        "id": "nNQ7v8CEW2i4",
        "outputId": "0bcf30d2-5a10-43ab-ec42-b492fcfb4fca"
      },
      "outputs": [
        {
          "output_type": "execute_result",
          "data": {
            "text/plain": [
              "5"
            ]
          },
          "metadata": {},
          "execution_count": 48
        }
      ],
      "execution_count": 48
    },
    {
      "cell_type": "markdown",
      "source": [
        "The next two attributes will make more sense when we get to higher dimensions but let's review them. The attribute <code>ndim</code> represents the number of array dimensions, or the rank of the array. In this case, one:\n"
      ],
      "metadata": {
        "id": "xzfvtsfOW2i4"
      }
    },
    {
      "cell_type": "code",
      "source": [
        "# Get the number of dimensions of numpy array\n",
        "\n",
        "a.ndim"
      ],
      "metadata": {
        "trusted": true,
        "colab": {
          "base_uri": "https://localhost:8080/"
        },
        "id": "tHyZii3WW2i4",
        "outputId": "8a7739d3-48d1-44a1-9761-03340f86a1ef"
      },
      "outputs": [
        {
          "output_type": "execute_result",
          "data": {
            "text/plain": [
              "1"
            ]
          },
          "metadata": {},
          "execution_count": 49
        }
      ],
      "execution_count": 49
    },
    {
      "cell_type": "markdown",
      "source": [
        "The attribute <code>shape</code> is a tuple of integers indicating the size of the array in each dimension:\n"
      ],
      "metadata": {
        "id": "4RdYhJZIW2i5"
      }
    },
    {
      "cell_type": "code",
      "source": [
        "# Get the shape/size of numpy array\n",
        "\n",
        "print(a.shape)\n"
      ],
      "metadata": {
        "trusted": true,
        "colab": {
          "base_uri": "https://localhost:8080/"
        },
        "id": "mR9P8hMFW2i5",
        "outputId": "ad729af5-eb14-4bc1-cb7b-da9b53d49cab"
      },
      "outputs": [
        {
          "output_type": "stream",
          "name": "stdout",
          "text": [
            "(5,)\n"
          ]
        }
      ],
      "execution_count": 52
    },
    {
      "cell_type": "markdown",
      "source": [
        "### Try it yourself\n",
        "\n",
        "Find the size ,dimension and shape for the given array **b**\n"
      ],
      "metadata": {
        "id": "fUlH33UlW2i5"
      }
    },
    {
      "cell_type": "code",
      "source": [
        "b = np.array([10, 20, 30, 40, 50, 60, 70])\n",
        "\n",
        "# Enter your code here\n",
        "print(b.size)\n",
        "print(b.ndim)\n",
        "print(b.shape)"
      ],
      "metadata": {
        "trusted": true,
        "id": "oxS9nJZ0W2i5",
        "outputId": "2b1e4ee7-04f0-4188-f8a6-ab6a3dd20eca",
        "colab": {
          "base_uri": "https://localhost:8080/"
        }
      },
      "outputs": [
        {
          "output_type": "stream",
          "name": "stdout",
          "text": [
            "7\n",
            "1\n",
            "(7,)\n"
          ]
        }
      ],
      "execution_count": 56
    },
    {
      "cell_type": "markdown",
      "source": [
        "<details><summary>Click here for the solution</summary>\n",
        "\n",
        "```python\n",
        "b.size\n",
        "\n",
        "b.ndim\n",
        "\n",
        "b.shape\n",
        "\n",
        "    \n",
        "```\n",
        "\n",
        "</details>\n"
      ],
      "metadata": {
        "id": "ZH3GfR00W2i5"
      }
    },
    {
      "cell_type": "markdown",
      "source": [
        "### Numpy Statistical Functions\n"
      ],
      "metadata": {
        "id": "4qaoKLNfW2i5"
      }
    },
    {
      "cell_type": "code",
      "source": [
        "# Create a numpy array\n",
        "\n",
        "a = np.array([1, -1, 1, -1])"
      ],
      "metadata": {
        "trusted": true,
        "id": "ultCpaS6W2i6"
      },
      "outputs": [],
      "execution_count": 57
    },
    {
      "cell_type": "code",
      "source": [
        "# Get the mean of numpy array\n",
        "\n",
        "mean = a.mean()\n",
        "mean"
      ],
      "metadata": {
        "trusted": true,
        "colab": {
          "base_uri": "https://localhost:8080/"
        },
        "id": "FezvxSKnW2i6",
        "outputId": "694cc5e6-b2a8-45dc-8e34-397a511b807f"
      },
      "outputs": [
        {
          "output_type": "execute_result",
          "data": {
            "text/plain": [
              "np.float64(0.0)"
            ]
          },
          "metadata": {},
          "execution_count": 58
        }
      ],
      "execution_count": 58
    },
    {
      "cell_type": "code",
      "source": [
        "# Get the standard deviation of numpy array\n",
        "\n",
        "standard_deviation = a.std()\n",
        "standard_deviation"
      ],
      "metadata": {
        "trusted": true,
        "colab": {
          "base_uri": "https://localhost:8080/"
        },
        "id": "S5tkfIVPW2i6",
        "outputId": "5822dad9-fed4-444e-97f6-02bbf125bba0"
      },
      "outputs": [
        {
          "output_type": "execute_result",
          "data": {
            "text/plain": [
              "np.float64(1.0)"
            ]
          },
          "metadata": {},
          "execution_count": 59
        }
      ],
      "execution_count": 59
    },
    {
      "cell_type": "code",
      "source": [
        "# Create a numpy array\n",
        "\n",
        "b = np.array([-1, 2, 3, 4, 5])\n",
        "b"
      ],
      "metadata": {
        "trusted": true,
        "colab": {
          "base_uri": "https://localhost:8080/"
        },
        "id": "qRgVG8uYW2i6",
        "outputId": "7649fc49-8dfc-40c7-d667-48d0181c77d9"
      },
      "outputs": [
        {
          "output_type": "execute_result",
          "data": {
            "text/plain": [
              "array([-1,  2,  3,  4,  5])"
            ]
          },
          "metadata": {},
          "execution_count": 60
        }
      ],
      "execution_count": 60
    },
    {
      "cell_type": "code",
      "source": [
        "# Get the biggest value in the numpy array\n",
        "\n",
        "max_b = b.max()\n",
        "max_b"
      ],
      "metadata": {
        "trusted": true,
        "colab": {
          "base_uri": "https://localhost:8080/"
        },
        "id": "E2xns3S8W2i7",
        "outputId": "e1deede5-3b64-4852-c950-6931ecbf14fb"
      },
      "outputs": [
        {
          "output_type": "execute_result",
          "data": {
            "text/plain": [
              "np.int64(5)"
            ]
          },
          "metadata": {},
          "execution_count": 61
        }
      ],
      "execution_count": 61
    },
    {
      "cell_type": "code",
      "source": [
        "# Get the smallest value in the numpy array\n",
        "\n",
        "min_b = b.min()\n",
        "min_b"
      ],
      "metadata": {
        "trusted": true,
        "colab": {
          "base_uri": "https://localhost:8080/"
        },
        "id": "nE4zheqjW2i7",
        "outputId": "4dfd0bf2-9ba3-4c60-e7bb-d7c213862ecd"
      },
      "outputs": [
        {
          "output_type": "execute_result",
          "data": {
            "text/plain": [
              "np.int64(-1)"
            ]
          },
          "metadata": {},
          "execution_count": 62
        }
      ],
      "execution_count": 62
    },
    {
      "cell_type": "markdown",
      "source": [
        "### Try it yourself\n",
        "\n",
        "Find the sum of maximum and minimum value in the given numpy array\n"
      ],
      "metadata": {
        "id": "qxkPv5-mW2i7"
      }
    },
    {
      "cell_type": "markdown",
      "source": [
        "<hr>\n"
      ],
      "metadata": {
        "id": "vmA9_Dg8W2i7"
      }
    },
    {
      "cell_type": "code",
      "source": [
        "c = np.array([-10, 201, 43, 94, 502])\n",
        "\n",
        "# Enter your code here\n",
        "sum=c.sum()\n",
        "print(\"Sum of values in the array \", sum)\n",
        "\n",
        "max=c.max()\n",
        "print(\"Maximum value\", max)\n",
        "\n",
        "min=c.min()\n",
        "print(\"Minimum value \",min)\n",
        "\n",
        "sum=max+min\n",
        "print(\"Som of max and min is \",sum)\n"
      ],
      "metadata": {
        "trusted": true,
        "id": "RBLOT2HNW2i8",
        "outputId": "195f1cdb-cda8-440b-c4d6-2ef4bbf00beb",
        "colab": {
          "base_uri": "https://localhost:8080/"
        }
      },
      "outputs": [
        {
          "output_type": "stream",
          "name": "stdout",
          "text": [
            "Sum of values in the array  830\n",
            "Maximum value 502\n",
            "Minimum value  -10\n",
            "Som of max and min is  492\n"
          ]
        }
      ],
      "execution_count": 68
    },
    {
      "cell_type": "markdown",
      "source": [
        "<details><summary>Click here for the solution</summary>\n",
        "\n",
        "```python\n",
        "max_c = c.max()\n",
        "max_c\n",
        "    \n",
        "min_c = c.min()\n",
        "min_c\n",
        "    \n",
        "    \n",
        "Sum = (max_c +min_c)\n",
        "Sum\n",
        "\n",
        "    \n",
        "```\n",
        "\n",
        "</details>\n"
      ],
      "metadata": {
        "id": "e3XkLTIyW2i8"
      }
    },
    {
      "cell_type": "markdown",
      "source": [
        "## Numpy Array Operations\n",
        "\n",
        "You could use arithmetic operators directly between NumPy arrays\n"
      ],
      "metadata": {
        "id": "uyoyZnFkW2i9"
      }
    },
    {
      "cell_type": "markdown",
      "source": [
        "### Array Addition\n",
        "\n"
      ],
      "metadata": {
        "id": "AA5S-Zg9W2i9"
      }
    },
    {
      "cell_type": "markdown",
      "source": [
        "Consider the numpy array <code>u</code>:\n"
      ],
      "metadata": {
        "id": "_rOLhrhDW2i9"
      }
    },
    {
      "cell_type": "code",
      "source": [
        "u = np.array([1, 0])\n",
        "u"
      ],
      "metadata": {
        "trusted": true,
        "colab": {
          "base_uri": "https://localhost:8080/"
        },
        "id": "FMCqWKWZW2i9",
        "outputId": "d55050dc-108a-48df-dee4-f6431029145d"
      },
      "outputs": [
        {
          "output_type": "execute_result",
          "data": {
            "text/plain": [
              "array([1, 0])"
            ]
          },
          "metadata": {},
          "execution_count": 70
        }
      ],
      "execution_count": 70
    },
    {
      "cell_type": "markdown",
      "source": [
        "Consider the numpy array <code>v</code>:\n"
      ],
      "metadata": {
        "id": "Nk-JbblJW2i-"
      }
    },
    {
      "cell_type": "code",
      "source": [
        "v = np.array([0, 1])\n",
        "v"
      ],
      "metadata": {
        "trusted": true,
        "colab": {
          "base_uri": "https://localhost:8080/"
        },
        "id": "H1il9lBMW2i-",
        "outputId": "6e79c88e-2273-4e23-8336-5e2eeb6a874e"
      },
      "outputs": [
        {
          "output_type": "execute_result",
          "data": {
            "text/plain": [
              "array([0, 1])"
            ]
          },
          "metadata": {},
          "execution_count": 69
        }
      ],
      "execution_count": 69
    },
    {
      "cell_type": "markdown",
      "source": [
        "We can add the two arrays and assign it to z:\n"
      ],
      "metadata": {
        "id": "eNN_XcUBW2i-"
      }
    },
    {
      "cell_type": "code",
      "source": [
        "# Numpy Array Addition\n",
        "\n",
        "z = np.add(u, v)\n",
        "z"
      ],
      "metadata": {
        "trusted": true,
        "colab": {
          "base_uri": "https://localhost:8080/"
        },
        "id": "tVOTmjHLW2i-",
        "outputId": "a1445d43-bc63-4729-fc84-cabf5cd81db1"
      },
      "outputs": [
        {
          "output_type": "execute_result",
          "data": {
            "text/plain": [
              "array([1, 1])"
            ]
          },
          "metadata": {},
          "execution_count": 43
        }
      ],
      "execution_count": null
    },
    {
      "cell_type": "markdown",
      "source": [
        "The operation is equivalent to vector addition:\n"
      ],
      "metadata": {
        "id": "izo9BmqzW2i_"
      }
    },
    {
      "cell_type": "code",
      "source": [
        "# Plotting functions\n",
        "\n",
        "import time\n",
        "import sys\n",
        "import numpy as np\n",
        "\n",
        "import matplotlib.pyplot as plt\n",
        "\n",
        "def Plotvec1(u, z, v):\n",
        "\n",
        "    ax = plt.axes() # to generate the full window axes\n",
        "    ax.arrow(0, 0, *u, head_width=0.05, color='r', head_length=0.1) # Add an arrow to the  U Axes with arrow head width 0.05, color red and arrow head length 0.1\n",
        "    plt.text(*(u + 0.1), 'u') # Add the text u to the Axes\n",
        "\n",
        "    ax.arrow(0, 0, *v, head_width=0.05, color='b', head_length=0.1) # Add an arrow to the  v Axes with arrow head width 0.05, color red and arrow head length 0.1\n",
        "    plt.text(*(v + 0.1), 'v') # Add the text v to the Axes\n",
        "\n",
        "    ax.arrow(0, 0, *z, head_width=0.05, head_length=0.1)\n",
        "    plt.text(*(z + 0.1), 'z') # Add the text z to the Axes\n",
        "    plt.ylim(-2, 2) # set the ylim to bottom(-2), top(2)\n",
        "    plt.xlim(-2, 2) # set the xlim to left(-2), right(2)\n"
      ],
      "metadata": {
        "trusted": true,
        "id": "iIbKBiQcW2i_"
      },
      "outputs": [],
      "execution_count": 71
    },
    {
      "cell_type": "code",
      "source": [
        "# Plot numpy arrays\n",
        "\n",
        "Plotvec1(u, z, v)"
      ],
      "metadata": {
        "trusted": true,
        "colab": {
          "base_uri": "https://localhost:8080/",
          "height": 435
        },
        "id": "Zfs7Tim6W2i_",
        "outputId": "6bb84b96-e0ed-4eec-b7ed-6157725ddea0"
      },
      "outputs": [
        {
          "output_type": "display_data",
          "data": {
            "text/plain": [
              "<Figure size 640x480 with 1 Axes>"
            ],
            "image/png": "[encoded data removed]"
          },
          "metadata": {}
        }
      ],
      "execution_count": null
    },
    {
      "cell_type": "markdown",
      "source": [
        "### Try it yourself\n",
        "\n",
        "Perform addition operation on the given numpy array arr1 and arr2:\n"
      ],
      "metadata": {
        "id": "oe8aRBIGW2i_"
      }
    },
    {
      "cell_type": "code",
      "source": [
        "arr1 = np.array([10, 11, 12, 13, 14, 15])\n",
        "arr2 = np.array([20, 21, 22, 23, 24, 25])\n",
        "\n",
        "# Enter your code here"
      ],
      "metadata": {
        "trusted": true,
        "id": "9N6PrpG_W2i_"
      },
      "outputs": [],
      "execution_count": null
    },
    {
      "cell_type": "markdown",
      "source": [
        "<details><summary>Click here for the solution</summary>\n",
        "\n",
        "```python\n",
        "arr3 = np.add(arr1, arr2)\n",
        "arr3\n",
        "\n",
        "    \n",
        "```\n",
        "\n",
        "</details>\n"
      ],
      "metadata": {
        "id": "vgMfTx_WW2i_"
      }
    },
    {
      "cell_type": "markdown",
      "source": [
        "### Array Subtraction\n"
      ],
      "metadata": {
        "id": "4L1Yjw7PW2jA"
      }
    },
    {
      "cell_type": "markdown",
      "source": [
        "Consider the numpy array a:\n"
      ],
      "metadata": {
        "id": "6LH2HfohW2jA"
      }
    },
    {
      "cell_type": "code",
      "source": [
        "a = np.array([10, 20, 30])\n",
        "a"
      ],
      "metadata": {
        "trusted": true,
        "colab": {
          "base_uri": "https://localhost:8080/"
        },
        "id": "AQy__8MOW2jA",
        "outputId": "5ee83324-9469-454c-a397-b2b7ac4ab2d6"
      },
      "outputs": [
        {
          "output_type": "execute_result",
          "data": {
            "text/plain": [
              "array([10, 20, 30])"
            ]
          },
          "metadata": {},
          "execution_count": 72
        }
      ],
      "execution_count": 72
    },
    {
      "cell_type": "markdown",
      "source": [
        "Consider the numpy array b:\n"
      ],
      "metadata": {
        "id": "gzjOf_zUW2jA"
      }
    },
    {
      "cell_type": "code",
      "source": [
        "b = np.array([5, 10, 15])\n",
        "b"
      ],
      "metadata": {
        "trusted": true,
        "colab": {
          "base_uri": "https://localhost:8080/"
        },
        "id": "JbsBoiHlW2jB",
        "outputId": "0dd2b424-8890-477a-833b-80747357aaa2"
      },
      "outputs": [
        {
          "output_type": "execute_result",
          "data": {
            "text/plain": [
              "array([ 5, 10, 15])"
            ]
          },
          "metadata": {},
          "execution_count": 73
        }
      ],
      "execution_count": 73
    },
    {
      "cell_type": "markdown",
      "source": [
        "We can subtract the two arrays and assign it to c:\n"
      ],
      "metadata": {
        "id": "HxRKniOrW2jB"
      }
    },
    {
      "cell_type": "code",
      "source": [
        "c = np.subtract(a, b)\n",
        "\n",
        "print(c)"
      ],
      "metadata": {
        "trusted": true,
        "colab": {
          "base_uri": "https://localhost:8080/"
        },
        "id": "aJBBiRWoW2jB",
        "outputId": "3480d041-707c-425c-d7f8-18e0e87059e4"
      },
      "outputs": [
        {
          "output_type": "stream",
          "name": "stdout",
          "text": [
            "[ 5 10 15]\n"
          ]
        }
      ],
      "execution_count": 74
    },
    {
      "cell_type": "markdown",
      "source": [
        "### Try it yourself\n",
        "\n",
        "Perform subtraction operation on the given numpy array arr1 and arr2:\n"
      ],
      "metadata": {
        "id": "FAjKN6kLW2jB"
      }
    },
    {
      "cell_type": "code",
      "source": [
        "arr1 = np.array([10, 20, 30, 40, 50, 60])\n",
        "arr2 = np.array([20, 21, 22, 23, 24, 25])\n",
        "\n",
        "# Enter your code here\n",
        "np.subtract(arr1,arr2)\n"
      ],
      "metadata": {
        "trusted": true,
        "id": "4-JR3PlIW2jB",
        "outputId": "ebe61208-6e46-4c7f-8a3f-9548a7762b69",
        "colab": {
          "base_uri": "https://localhost:8080/"
        }
      },
      "outputs": [
        {
          "output_type": "execute_result",
          "data": {
            "text/plain": [
              "array([-10,  -1,   8,  17,  26,  35])"
            ]
          },
          "metadata": {},
          "execution_count": 75
        }
      ],
      "execution_count": 75
    },
    {
      "cell_type": "markdown",
      "source": [
        "<details><summary>Click here for the solution</summary>\n",
        "\n",
        "```python\n",
        "arr3 = np.subtract(arr1, arr2)\n",
        "arr3\n",
        "\n",
        "    \n",
        "```\n",
        "\n",
        "</details>\n"
      ],
      "metadata": {
        "id": "PwfKCeKNW2jC"
      }
    },
    {
      "cell_type": "markdown",
      "source": [
        "### Array Multiplication\n"
      ],
      "metadata": {
        "id": "RehK-VqVW2jC"
      }
    },
    {
      "cell_type": "markdown",
      "source": [
        "Consider the vector numpy array <code>y</code>:\n"
      ],
      "metadata": {
        "id": "d3E5kxzJW2jC"
      }
    },
    {
      "cell_type": "code",
      "source": [
        "# Create a numpy array\n",
        "\n",
        "x = np.array([1, 2])\n",
        "x"
      ],
      "metadata": {
        "trusted": true,
        "colab": {
          "base_uri": "https://localhost:8080/"
        },
        "id": "j3tPCHvEW2jC",
        "outputId": "78b675b2-6c28-4637-8736-5f94ded1d8aa"
      },
      "outputs": [
        {
          "output_type": "execute_result",
          "data": {
            "text/plain": [
              "array([1, 2])"
            ]
          },
          "metadata": {},
          "execution_count": 76
        }
      ],
      "execution_count": 76
    },
    {
      "cell_type": "code",
      "source": [
        "# Create a numpy array\n",
        "\n",
        "y = np.array([2, 1])\n",
        "y"
      ],
      "metadata": {
        "trusted": true,
        "colab": {
          "base_uri": "https://localhost:8080/"
        },
        "id": "mkMq_Ad5W2jC",
        "outputId": "a37acaef-f189-4556-86dd-25739b3ac842"
      },
      "outputs": [
        {
          "output_type": "execute_result",
          "data": {
            "text/plain": [
              "array([2, 1])"
            ]
          },
          "metadata": {},
          "execution_count": 77
        }
      ],
      "execution_count": 77
    },
    {
      "cell_type": "markdown",
      "source": [
        "We can multiply every element in the array by 2:\n"
      ],
      "metadata": {
        "id": "EgYvkfyxW2jD"
      }
    },
    {
      "cell_type": "code",
      "source": [
        "# Numpy Array Multiplication\n",
        "\n",
        "z = np.multiply(x, y)\n",
        "z"
      ],
      "metadata": {
        "trusted": true,
        "colab": {
          "base_uri": "https://localhost:8080/"
        },
        "id": "jRZ_nBIzW2jD",
        "outputId": "e43c536c-adf9-4a20-8a6d-84da082611f6"
      },
      "outputs": [
        {
          "output_type": "execute_result",
          "data": {
            "text/plain": [
              "array([2, 2])"
            ]
          },
          "metadata": {},
          "execution_count": 78
        }
      ],
      "execution_count": 78
    },
    {
      "cell_type": "markdown",
      "source": [
        "This is equivalent to multiplying a vector by a scaler:\n"
      ],
      "metadata": {
        "id": "CLBexOy9W2jD"
      }
    },
    {
      "cell_type": "markdown",
      "source": [
        "### Try it yourself\n",
        "\n",
        "Perform multiply operation on the given numpy array arr1 and arr2:\n"
      ],
      "metadata": {
        "id": "-BRtgOFVW2jD"
      }
    },
    {
      "cell_type": "code",
      "source": [
        "arr1 = np.array([10, 20, 30, 40, 50, 60])\n",
        "arr2 = np.array([2, 1, 2, 3, 4, 5])\n",
        "\n",
        "# Enter your code here\n",
        "multi=np.multiply(arr1,arr2)\n",
        "multi"
      ],
      "metadata": {
        "trusted": true,
        "id": "BJI7nA2UW2jD",
        "outputId": "cfa1d7fc-24f0-4934-fe96-3607fa1302ad",
        "colab": {
          "base_uri": "https://localhost:8080/"
        }
      },
      "outputs": [
        {
          "output_type": "execute_result",
          "data": {
            "text/plain": [
              "array([ 20,  20,  60, 120, 200, 300])"
            ]
          },
          "metadata": {},
          "execution_count": 79
        }
      ],
      "execution_count": 79
    },
    {
      "cell_type": "markdown",
      "source": [
        "<details><summary>Click here for the solution</summary>\n",
        "\n",
        "```python\n",
        "arr3 = np.multiply(arr1, arr2)\n",
        "arr3\n",
        "\n",
        "    \n",
        "```\n",
        "\n",
        "</details>\n"
      ],
      "metadata": {
        "id": "l5W0zOOVW2jE"
      }
    },
    {
      "cell_type": "markdown",
      "source": [
        "### Array Division\n"
      ],
      "metadata": {
        "id": "sEuevHgwW2jE"
      }
    },
    {
      "cell_type": "markdown",
      "source": [
        "Consider the vector numpy array a:\n"
      ],
      "metadata": {
        "id": "bGDLvsatW2jE"
      }
    },
    {
      "cell_type": "code",
      "source": [
        "a = np.array([10, 20, 30])\n",
        "a"
      ],
      "metadata": {
        "trusted": true,
        "colab": {
          "base_uri": "https://localhost:8080/"
        },
        "id": "Hdg_i4WeW2jE",
        "outputId": "cf910f6f-39df-43d0-d95a-79f5a1333ca8"
      },
      "outputs": [
        {
          "output_type": "execute_result",
          "data": {
            "text/plain": [
              "array([10, 20, 30])"
            ]
          },
          "metadata": {},
          "execution_count": 80
        }
      ],
      "execution_count": 80
    },
    {
      "cell_type": "markdown",
      "source": [
        "Consider the vector numpy array b:\n"
      ],
      "metadata": {
        "id": "idFvFDLRW2jE"
      }
    },
    {
      "cell_type": "code",
      "source": [
        "b = np.array([2, 10, 5])\n",
        "b"
      ],
      "metadata": {
        "trusted": true,
        "colab": {
          "base_uri": "https://localhost:8080/"
        },
        "id": "wCxB5zI2W2jE",
        "outputId": "c54cdb0e-c56e-4d5c-f8f2-788921a55e1a"
      },
      "outputs": [
        {
          "output_type": "execute_result",
          "data": {
            "text/plain": [
              "array([ 2, 10,  5])"
            ]
          },
          "metadata": {},
          "execution_count": 81
        }
      ],
      "execution_count": 81
    },
    {
      "cell_type": "markdown",
      "source": [
        "We can divide the two arrays and assign it to c:\n"
      ],
      "metadata": {
        "id": "UeXdQGjaW2jE"
      }
    },
    {
      "cell_type": "code",
      "source": [
        "c = np.divide(a, b)\n",
        "c"
      ],
      "metadata": {
        "trusted": true,
        "colab": {
          "base_uri": "https://localhost:8080/"
        },
        "id": "yqPxJE2_W2jE",
        "outputId": "c6baf2ed-9864-4806-b8fa-85e5a0abc385"
      },
      "outputs": [
        {
          "output_type": "execute_result",
          "data": {
            "text/plain": [
              "array([5., 2., 6.])"
            ]
          },
          "metadata": {},
          "execution_count": 82
        }
      ],
      "execution_count": 82
    },
    {
      "cell_type": "markdown",
      "source": [
        "### Try it yourself\n",
        "\n",
        "Perform division operation on the given numpy array arr1 and arr2:\n"
      ],
      "metadata": {
        "id": "Ng0WIFTNW2jE"
      }
    },
    {
      "cell_type": "code",
      "source": [
        "arr1 = np.array([10, 20, 30, 40, 50, 60])\n",
        "arr2 = np.array([3, 5, 10, 8, 2, 33])\n",
        "\n",
        "# Enter your code here\n",
        "div=np.divide(arr1,arr2)\n",
        "div"
      ],
      "metadata": {
        "trusted": true,
        "id": "BNxBB_kqW2jF",
        "outputId": "52cfbd8e-63a5-4f98-f041-7efe632fdd58",
        "colab": {
          "base_uri": "https://localhost:8080/"
        }
      },
      "outputs": [
        {
          "output_type": "execute_result",
          "data": {
            "text/plain": [
              "array([ 3.33333333,  4.        ,  3.        ,  5.        , 25.        ,\n",
              "        1.81818182])"
            ]
          },
          "metadata": {},
          "execution_count": 83
        }
      ],
      "execution_count": 83
    },
    {
      "cell_type": "markdown",
      "source": [
        "<details><summary>Click here for the solution</summary>\n",
        "\n",
        "```python\n",
        "arr3 = np.divide(arr1, arr2)\n",
        "arr3\n",
        "\n",
        "    \n",
        "```\n",
        "\n",
        "</details>\n"
      ],
      "metadata": {
        "id": "QFAupHRMW2jF"
      }
    },
    {
      "cell_type": "markdown",
      "source": [
        "### Dot Product\n"
      ],
      "metadata": {
        "id": "imvd2SobW2jF"
      }
    },
    {
      "cell_type": "markdown",
      "source": [
        "The dot product of the two numpy arrays <code>u</code> and <code>v</code> is given by:\n"
      ],
      "metadata": {
        "id": "wU3pA1okW2jF"
      }
    },
    {
      "cell_type": "code",
      "source": [
        "X = np.array([1, 2])\n",
        "Y = np.array([3, 2])"
      ],
      "metadata": {
        "trusted": true,
        "id": "y55yAjNmW2jG"
      },
      "outputs": [],
      "execution_count": 84
    },
    {
      "cell_type": "code",
      "source": [
        "# Calculate the dot product\n",
        "\n",
        "np.dot(X, Y)"
      ],
      "metadata": {
        "trusted": true,
        "colab": {
          "base_uri": "https://localhost:8080/"
        },
        "id": "EVkLvRlGW2jG",
        "outputId": "7f9d9114-954e-4d65-d57d-655c3ed95c3b"
      },
      "outputs": [
        {
          "output_type": "execute_result",
          "data": {
            "text/plain": [
              "np.int64(7)"
            ]
          },
          "metadata": {},
          "execution_count": 85
        }
      ],
      "execution_count": 85
    },
    {
      "cell_type": "code",
      "source": [
        "# Elements of X\n",
        "print(X[0])\n",
        "print(X[1])"
      ],
      "metadata": {
        "trusted": true,
        "colab": {
          "base_uri": "https://localhost:8080/"
        },
        "id": "ug8324RiW2jJ",
        "outputId": "d65bde4b-f5ce-4027-8bb9-1e2277dd8162"
      },
      "outputs": [
        {
          "output_type": "stream",
          "name": "stdout",
          "text": [
            "1\n",
            "2\n"
          ]
        }
      ],
      "execution_count": 86
    },
    {
      "cell_type": "code",
      "source": [
        "# Elements of Y\n",
        "print(Y[0])\n",
        "print(Y[1])"
      ],
      "metadata": {
        "trusted": true,
        "colab": {
          "base_uri": "https://localhost:8080/"
        },
        "id": "Rx4zVhrAW2jJ",
        "outputId": "21bbd862-87a5-4cba-e2d9-5e35345c5fee"
      },
      "outputs": [
        {
          "output_type": "stream",
          "name": "stdout",
          "text": [
            "3\n",
            "2\n"
          ]
        }
      ],
      "execution_count": 87
    },
    {
      "cell_type": "markdown",
      "source": [
        "We are performing the dot product which is shown as below\n"
      ],
      "metadata": {
        "id": "Xpk-ID6xW2jK"
      }
    },
    {
      "cell_type": "markdown",
      "source": [
        "<img src=\"https://cf-courses-data.s3.us.cloud-object-storage.appdomain.cloud/IBMDeveloperSkillsNetwork-PY0101EN-SkillsNetwork/labs/Module%205/images/dot1.png\">\n"
      ],
      "metadata": {
        "id": "nNISio2dW2jK"
      }
    },
    {
      "cell_type": "markdown",
      "source": [
        "### Try it yourself\n",
        "\n",
        "Perform dot operation on the given numpy array ar1 and ar2:\n"
      ],
      "metadata": {
        "id": "GNTcr4xsW2jK"
      }
    },
    {
      "cell_type": "code",
      "source": [
        "arr1 = np.array([3, 5])\n",
        "arr2 = np.array([2, 4])\n",
        "\n",
        "# Enter your code here\n",
        "dot=np.dot(arr1,arr2)\n",
        "dot"
      ],
      "metadata": {
        "trusted": true,
        "id": "FgrPlME0W2jL",
        "outputId": "54390de9-9450-4373-c7bd-31515151022f",
        "colab": {
          "base_uri": "https://localhost:8080/"
        }
      },
      "outputs": [
        {
          "output_type": "execute_result",
          "data": {
            "text/plain": [
              "np.int64(26)"
            ]
          },
          "metadata": {},
          "execution_count": 90
        }
      ],
      "execution_count": 90
    },
    {
      "cell_type": "markdown",
      "source": [
        "<details><summary>Click here for the solution</summary>\n",
        "\n",
        "```python\n",
        "arr3 = np.dot(arr1, arr2)\n",
        "arr3\n",
        "\n",
        "    \n",
        "```\n",
        "\n",
        "</details>\n"
      ],
      "metadata": {
        "id": "FPZGZyftW2jL"
      }
    },
    {
      "cell_type": "markdown",
      "source": [
        "### Adding Constant to a Numpy Array\n"
      ],
      "metadata": {
        "id": "NnRHIE9pW2jL"
      }
    },
    {
      "cell_type": "markdown",
      "source": [
        "Consider the following array:\n"
      ],
      "metadata": {
        "id": "Yq8iPqXqW2jL"
      }
    },
    {
      "cell_type": "code",
      "source": [
        "# Create a constant to numpy array\n",
        "\n",
        "u = np.array([1, 2, 3, -1])\n",
        "u"
      ],
      "metadata": {
        "trusted": true,
        "colab": {
          "base_uri": "https://localhost:8080/"
        },
        "id": "z7VLQOSZW2jM",
        "outputId": "acc1a60e-754b-42d6-d21f-3a0e19d61ee5"
      },
      "outputs": [
        {
          "output_type": "execute_result",
          "data": {
            "text/plain": [
              "array([ 1,  2,  3, -1])"
            ]
          },
          "metadata": {},
          "execution_count": 91
        }
      ],
      "execution_count": 91
    },
    {
      "cell_type": "markdown",
      "source": [
        "Adding the constant 1 to each element in the array:\n"
      ],
      "metadata": {
        "id": "mf0EsVRbW2jN"
      }
    },
    {
      "cell_type": "code",
      "source": [
        "# Add the constant to array\n",
        "\n",
        "u + 1"
      ],
      "metadata": {
        "trusted": true,
        "colab": {
          "base_uri": "https://localhost:8080/"
        },
        "id": "EONvdQsvW2jN",
        "outputId": "3f3c7612-549b-4bbd-8a7e-30a6075e1857"
      },
      "outputs": [
        {
          "output_type": "execute_result",
          "data": {
            "text/plain": [
              "array([2, 3, 4, 0])"
            ]
          },
          "metadata": {},
          "execution_count": 92
        }
      ],
      "execution_count": 92
    },
    {
      "cell_type": "markdown",
      "source": [
        "The process is summarised in the following animation:\n"
      ],
      "metadata": {
        "id": "kTMV82kJW2jN"
      }
    },
    {
      "cell_type": "markdown",
      "source": [
        "<img src=\"https://cf-courses-data.s3.us.cloud-object-storage.appdomain.cloud/IBMDeveloperSkillsNetwork-PY0101EN-SkillsNetwork/labs/Module%205/images/NumOneAdd.gif\" width=\"500\">\n"
      ],
      "metadata": {
        "id": "RTBoUC62W2jO"
      }
    },
    {
      "cell_type": "markdown",
      "source": [
        "### Try it yourself\n",
        "\n",
        "Add Constant 5 to the given numpy array ar:\n"
      ],
      "metadata": {
        "id": "wQ0nfqAZW2jO"
      }
    },
    {
      "cell_type": "code",
      "source": [
        "arr = np.array([1, 2, 3, -1])\n",
        "\n",
        "# Enter your code here\n",
        "arr+1"
      ],
      "metadata": {
        "trusted": true,
        "id": "irxmUg58W2jO",
        "outputId": "4598ec66-0ab3-453e-a9e5-476c07034310",
        "colab": {
          "base_uri": "https://localhost:8080/"
        }
      },
      "outputs": [
        {
          "output_type": "execute_result",
          "data": {
            "text/plain": [
              "array([2, 3, 4, 0])"
            ]
          },
          "metadata": {},
          "execution_count": 93
        }
      ],
      "execution_count": 93
    },
    {
      "cell_type": "markdown",
      "source": [
        "<details><summary>Click here for the solution</summary>\n",
        "\n",
        "```python\n",
        "arr + 5\n",
        "\n",
        "    \n",
        "```\n",
        "\n",
        "</details>\n"
      ],
      "metadata": {
        "id": "QxhEZX4sW2jP"
      }
    },
    {
      "cell_type": "markdown",
      "source": [
        "<hr>\n"
      ],
      "metadata": {
        "id": "DIeR8k5yW2jP"
      }
    },
    {
      "cell_type": "markdown",
      "source": [
        "## Mathematical Functions\n"
      ],
      "metadata": {
        "id": "eg9mPop4W2jP"
      }
    },
    {
      "cell_type": "markdown",
      "source": [
        "We can access the value of <code>pi</code> in numpy as follows :\n"
      ],
      "metadata": {
        "id": "yCZlsfTLW2jP"
      }
    },
    {
      "cell_type": "code",
      "source": [
        "# The value of pi\n",
        "\n",
        "np.pi"
      ],
      "metadata": {
        "trusted": true,
        "colab": {
          "base_uri": "https://localhost:8080/"
        },
        "id": "GvEjE-2bW2jP",
        "outputId": "48e845c6-60d9-422f-a9ad-c342c326e9eb"
      },
      "outputs": [
        {
          "output_type": "execute_result",
          "data": {
            "text/plain": [
              "3.141592653589793"
            ]
          },
          "metadata": {},
          "execution_count": 94
        }
      ],
      "execution_count": 94
    },
    {
      "cell_type": "markdown",
      "source": [
        "We can create the following numpy array in Radians:\n"
      ],
      "metadata": {
        "id": "P1i9LGrjW2jQ"
      }
    },
    {
      "cell_type": "code",
      "source": [
        "# Create the numpy array in radians\n",
        "\n",
        "x = np.array([0, np.pi/2 , np.pi])"
      ],
      "metadata": {
        "trusted": true,
        "id": "hjQDVetlW2jQ"
      },
      "outputs": [],
      "execution_count": 95
    },
    {
      "cell_type": "markdown",
      "source": [
        "We can apply the function <code>sin</code> to the array <code>x</code> and assign the values to the array <code>y</code>; this applies the sine function to each element in the array:\n"
      ],
      "metadata": {
        "id": "SWpmuZASW2jR"
      }
    },
    {
      "cell_type": "code",
      "source": [
        "# Calculate the sine of each element\n",
        "\n",
        "y = np.sin(x)\n",
        "y"
      ],
      "metadata": {
        "trusted": true,
        "colab": {
          "base_uri": "https://localhost:8080/"
        },
        "id": "kjRF_ZeyW2jR",
        "outputId": "1513d999-a77f-4026-dfbe-519e6ac712b0"
      },
      "outputs": [
        {
          "output_type": "execute_result",
          "data": {
            "text/plain": [
              "array([ 0.00000000e+00,  6.34239197e-02,  1.26592454e-01,  1.89251244e-01,\n",
              "        2.51147987e-01,  3.12033446e-01,  3.71662456e-01,  4.29794912e-01,\n",
              "        4.86196736e-01,  5.40640817e-01,  5.92907929e-01,  6.42787610e-01,\n",
              "        6.90079011e-01,  7.34591709e-01,  7.76146464e-01,  8.14575952e-01,\n",
              "        8.49725430e-01,  8.81453363e-01,  9.09631995e-01,  9.34147860e-01,\n",
              "        9.54902241e-01,  9.71811568e-01,  9.84807753e-01,  9.93838464e-01,\n",
              "        9.98867339e-01,  9.99874128e-01,  9.96854776e-01,  9.89821442e-01,\n",
              "        9.78802446e-01,  9.63842159e-01,  9.45000819e-01,  9.22354294e-01,\n",
              "        8.95993774e-01,  8.66025404e-01,  8.32569855e-01,  7.95761841e-01,\n",
              "        7.55749574e-01,  7.12694171e-01,  6.66769001e-01,  6.18158986e-01,\n",
              "        5.67059864e-01,  5.13677392e-01,  4.58226522e-01,  4.00930535e-01,\n",
              "        3.42020143e-01,  2.81732557e-01,  2.20310533e-01,  1.58001396e-01,\n",
              "        9.50560433e-02,  3.17279335e-02, -3.17279335e-02, -9.50560433e-02,\n",
              "       -1.58001396e-01, -2.20310533e-01, -2.81732557e-01, -3.42020143e-01,\n",
              "       -4.00930535e-01, -4.58226522e-01, -5.13677392e-01, -5.67059864e-01,\n",
              "       -6.18158986e-01, -6.66769001e-01, -7.12694171e-01, -7.55749574e-01,\n",
              "       -7.95761841e-01, -8.32569855e-01, -8.66025404e-01, -8.95993774e-01,\n",
              "       -9.22354294e-01, -9.45000819e-01, -9.63842159e-01, -9.78802446e-01,\n",
              "       -9.89821442e-01, -9.96854776e-01, -9.99874128e-01, -9.98867339e-01,\n",
              "       -9.93838464e-01, -9.84807753e-01, -9.71811568e-01, -9.54902241e-01,\n",
              "       -9.34147860e-01, -9.09631995e-01, -8.81453363e-01, -8.49725430e-01,\n",
              "       -8.14575952e-01, -7.76146464e-01, -7.34591709e-01, -6.90079011e-01,\n",
              "       -6.42787610e-01, -5.92907929e-01, -5.40640817e-01, -4.86196736e-01,\n",
              "       -4.29794912e-01, -3.71662456e-01, -3.12033446e-01, -2.51147987e-01,\n",
              "       -1.89251244e-01, -1.26592454e-01, -6.34239197e-02, -2.44929360e-16])"
            ]
          },
          "metadata": {},
          "execution_count": 110
        }
      ],
      "execution_count": 110
    },
    {
      "cell_type": "markdown",
      "source": [
        "<hr>\n"
      ],
      "metadata": {
        "id": "1UAgWItKW2jR"
      }
    },
    {
      "cell_type": "markdown",
      "source": [
        "## Linspace\n"
      ],
      "metadata": {
        "id": "-Cq0YfyvW2jS"
      }
    },
    {
      "cell_type": "markdown",
      "source": [
        "A useful function for plotting mathematical functions is <code>linspace</code>.   Linspace returns evenly spaced numbers over a specified interval.\n",
        "\n",
        " **numpy.linspace(start, stop, num = int value)**\n",
        "\n",
        "start  :  start of interval range\n",
        "\n",
        "stop   :  end of interval range\n",
        "\n",
        "num    :  Number of samples to generate.\n"
      ],
      "metadata": {
        "id": "B4x_F8GbW2jS"
      }
    },
    {
      "cell_type": "code",
      "source": [
        "# Makeup a numpy array within [-2, 2] and 5 elements\n",
        "\n",
        "np.linspace(-2, 2, num=5)"
      ],
      "metadata": {
        "trusted": true,
        "colab": {
          "base_uri": "https://localhost:8080/"
        },
        "id": "COobYNP6W2jS",
        "outputId": "a1930d87-4ba2-4678-b356-3eaa917406c0"
      },
      "outputs": [
        {
          "output_type": "execute_result",
          "data": {
            "text/plain": [
              "array([-2., -1.,  0.,  1.,  2.])"
            ]
          },
          "metadata": {},
          "execution_count": 107
        }
      ],
      "execution_count": 107
    },
    {
      "cell_type": "markdown",
      "source": [
        "If we change the parameter <code>num</code> to 9, we get 9 evenly spaced numbers over the interval from -2 to 2:\n"
      ],
      "metadata": {
        "id": "JkGRhBvcW2jS"
      }
    },
    {
      "cell_type": "code",
      "source": [
        "# Make a numpy array within [-2, 2] and 9 elements\n",
        "\n",
        "np.linspace(-2, 2, num=9)"
      ],
      "metadata": {
        "trusted": true,
        "colab": {
          "base_uri": "https://localhost:8080/"
        },
        "id": "IhZfcB2GW2jT",
        "outputId": "8ede297e-a238-4ca3-80c9-1dfa5f498489"
      },
      "outputs": [
        {
          "output_type": "execute_result",
          "data": {
            "text/plain": [
              "array([-2. , -1.5, -1. , -0.5,  0. ,  0.5,  1. ,  1.5,  2. ])"
            ]
          },
          "metadata": {},
          "execution_count": 106
        }
      ],
      "execution_count": 106
    },
    {
      "cell_type": "markdown",
      "source": [
        "We can use the function <code>linspace</code> to generate 100 evenly spaced samples from the interval 0 to 2π:\n"
      ],
      "metadata": {
        "id": "_61D2v-KW2jT"
      }
    },
    {
      "cell_type": "code",
      "source": [
        "# Make a numpy array within [0, 2π] and 100 elements\n",
        "\n",
        "x = np.linspace(0, 2*np.pi, num=100)"
      ],
      "metadata": {
        "trusted": true,
        "id": "IcDmDB5_W2jU"
      },
      "outputs": [],
      "execution_count": 105
    },
    {
      "cell_type": "markdown",
      "source": [
        "We can apply the sine function to each element in the array <code>x</code> and assign it to the array <code>y</code>:\n"
      ],
      "metadata": {
        "id": "QmEh6kMwW2jU"
      }
    },
    {
      "cell_type": "code",
      "source": [
        "# Calculate the sine of x list\n",
        "\n",
        "y = np.sin(x)"
      ],
      "metadata": {
        "trusted": true,
        "id": "oyu4qMA1W2jV"
      },
      "outputs": [],
      "execution_count": 104
    },
    {
      "cell_type": "code",
      "source": [
        "# Plot the result\n",
        "\n",
        "plt.plot(x, y)"
      ],
      "metadata": {
        "trusted": true,
        "colab": {
          "base_uri": "https://localhost:8080/",
          "height": 447
        },
        "id": "VxZ_3vz3W2jV",
        "outputId": "cc9c0961-ca70-42eb-b0a3-da4092feb78f"
      },
      "outputs": [
        {
          "output_type": "execute_result",
          "data": {
            "text/plain": [
              "[<matplotlib.lines.Line2D at 0x7b2406e75e50>]"
            ]
          },
          "metadata": {},
          "execution_count": 103
        },
        {
          "output_type": "display_data",
          "data": {
            "text/plain": [
              "<Figure size 640x480 with 1 Axes>"
            ],
            "image/png": "[encoded data removed]"
          },
          "metadata": {}
        }
      ],
      "execution_count": 103
    },
    {
      "cell_type": "markdown",
      "source": [
        "### Try it yourself\n",
        "\n",
        " Make a numpy array within [5, 4] and 6 elements\n"
      ],
      "metadata": {
        "id": "-tUDQUvpW2jV"
      }
    },
    {
      "cell_type": "code",
      "source": [
        "np.linspace(5, 4, num=6)"
      ],
      "metadata": {
        "trusted": true,
        "id": "ewrGe48YW2jW",
        "outputId": "d0a21bd5-7497-4439-efa6-702c6eb14e6b",
        "colab": {
          "base_uri": "https://localhost:8080/"
        }
      },
      "outputs": [
        {
          "output_type": "execute_result",
          "data": {
            "text/plain": [
              "array([5. , 4.8, 4.6, 4.4, 4.2, 4. ])"
            ]
          },
          "metadata": {},
          "execution_count": 111
        }
      ],
      "execution_count": 111
    },
    {
      "cell_type": "markdown",
      "source": [
        "<details><summary>Click here for the solution</summary>\n",
        "\n",
        "```python\n",
        "np.linspace(5, 4, num=6)\n",
        "\n",
        "    \n",
        "```\n",
        "\n",
        "</details>\n"
      ],
      "metadata": {
        "id": "4ke-OKpzW2jW"
      }
    },
    {
      "cell_type": "markdown",
      "source": [
        "<hr>\n"
      ],
      "metadata": {
        "id": "u5nueB9JW2jW"
      }
    },
    {
      "cell_type": "markdown",
      "source": [
        "### Iterating 1-D Arrays\n",
        "\n",
        "Iterating means going through elements one by one.\n",
        "\n",
        "If we iterate on a 1-D array it will go through each element one by one.\n"
      ],
      "metadata": {
        "id": "Y1lmQL-1W2jW"
      }
    },
    {
      "cell_type": "markdown",
      "source": [
        "If we execute the numpy array, we get in the array format\n"
      ],
      "metadata": {
        "id": "bKg6iGnkW2jX"
      }
    },
    {
      "cell_type": "code",
      "source": [
        "arr1 = np.array([1, 2, 3])\n",
        "print(arr1)"
      ],
      "metadata": {
        "trusted": true,
        "colab": {
          "base_uri": "https://localhost:8080/"
        },
        "id": "g_T-hD1yW2jX",
        "outputId": "fb64d5be-ac53-4b53-82c1-fa7e61c78e95"
      },
      "outputs": [
        {
          "output_type": "stream",
          "name": "stdout",
          "text": [
            "[1 2 3]\n"
          ]
        }
      ],
      "execution_count": 112
    },
    {
      "cell_type": "markdown",
      "source": [
        "But if you want to result in the form of the list, then you can use for loop:\n"
      ],
      "metadata": {
        "id": "LAMjp3FRW2jY"
      }
    },
    {
      "cell_type": "code",
      "source": [
        "for x in arr1:\n",
        "  print(x)"
      ],
      "metadata": {
        "trusted": true,
        "colab": {
          "base_uri": "https://localhost:8080/"
        },
        "id": "Lix8XLq4W2jY",
        "outputId": "fe46083f-8b69-403f-805c-120f2e86e448"
      },
      "outputs": [
        {
          "output_type": "stream",
          "name": "stdout",
          "text": [
            "1\n",
            "2\n",
            "3\n"
          ]
        }
      ],
      "execution_count": 113
    },
    {
      "cell_type": "markdown",
      "source": [
        "## Quiz on 1D Numpy Array\n"
      ],
      "metadata": {
        "id": "wuWBemf6W2jY"
      }
    },
    {
      "cell_type": "markdown",
      "source": [
        "Implement the following vector subtraction in numpy: u-v\n"
      ],
      "metadata": {
        "id": "Cl77ge3yW2jb"
      }
    },
    {
      "cell_type": "code",
      "source": [
        "# Write your code below and press Shift+Enter to execute\n",
        "\n",
        "u = np.array([1, 0])\n",
        "v = np.array([0, 1])\n",
        "u-v"
      ],
      "metadata": {
        "trusted": true,
        "id": "VBEfpLoGW2jb",
        "outputId": "43e68131-7de6-41b2-8693-4872faa055d8",
        "colab": {
          "base_uri": "https://localhost:8080/"
        }
      },
      "outputs": [
        {
          "output_type": "execute_result",
          "data": {
            "text/plain": [
              "array([ 1, -1])"
            ]
          },
          "metadata": {},
          "execution_count": 116
        }
      ],
      "execution_count": 116
    },
    {
      "cell_type": "markdown",
      "source": [
        "<details><summary>Click here for the solution</summary>\n",
        "\n",
        "```python\n",
        "u - v\n",
        "```\n",
        "\n",
        "</details>\n"
      ],
      "metadata": {
        "id": "tWiRxORhW2jb"
      }
    },
    {
      "cell_type": "markdown",
      "source": [
        "<hr>\n"
      ],
      "metadata": {
        "id": "to0uc5YyW2jb"
      }
    },
    {
      "cell_type": "markdown",
      "source": [
        "Multiply the numpy array z with -2:\n"
      ],
      "metadata": {
        "id": "-YLtmgtiW2jb"
      }
    },
    {
      "cell_type": "code",
      "source": [
        "# Write your code below and press Shift+Enter to execute\n",
        "\n",
        "z = np.array([2, 4])\n",
        "print(z*-2)\n",
        "print(-2*z)"
      ],
      "metadata": {
        "trusted": true,
        "id": "vb7AgrmsW2jg",
        "outputId": "8128dc49-52d0-4b20-e454-166894e3b22f",
        "colab": {
          "base_uri": "https://localhost:8080/"
        }
      },
      "outputs": [
        {
          "output_type": "stream",
          "name": "stdout",
          "text": [
            "[-4 -8]\n",
            "[-4 -8]\n"
          ]
        }
      ],
      "execution_count": 119
    },
    {
      "cell_type": "markdown",
      "source": [
        "<details><summary>Click here for the solution</summary>\n",
        "\n",
        "```python\n",
        "-2 * z\n",
        "```\n",
        "\n",
        "</details>\n"
      ],
      "metadata": {
        "id": "n-25LaU4W2jh"
      }
    },
    {
      "cell_type": "markdown",
      "source": [
        "<hr>\n"
      ],
      "metadata": {
        "id": "BeJtV2P5W2jh"
      }
    },
    {
      "cell_type": "markdown",
      "source": [
        "Consider the list <code>\\[1, 2, 3, 4, 5]</code> and <code>\\[1, 0, 1, 0, 1]</code>. Cast both lists to a numpy array then multiply them together:\n"
      ],
      "metadata": {
        "id": "PQH7zkfcW2jh"
      }
    },
    {
      "cell_type": "code",
      "source": [
        "# Write your code below and press Shift+Enter to execute\n",
        "num1 = np.array([1, 2, 3, 4, 5])\n",
        "num2 = np.array([1, 0, 1, 0, 1])\n",
        "num1 * num2"
      ],
      "metadata": {
        "trusted": true,
        "id": "kclJ7gtVW2jh",
        "outputId": "8348d03a-09cb-4c86-f202-b3857c43128c",
        "colab": {
          "base_uri": "https://localhost:8080/"
        }
      },
      "outputs": [
        {
          "output_type": "execute_result",
          "data": {
            "text/plain": [
              "array([1, 0, 3, 0, 5])"
            ]
          },
          "metadata": {},
          "execution_count": 120
        }
      ],
      "execution_count": 120
    },
    {
      "cell_type": "markdown",
      "source": [
        "<details><summary>Click here for the solution</summary>\n",
        "\n",
        "```python\n",
        "a = np.array([1, 2, 3, 4, 5])\n",
        "b = np.array([1, 0, 1, 0, 1])\n",
        "a * b\n",
        "```\n",
        "\n",
        "</details>\n"
      ],
      "metadata": {
        "id": "-7JRZXo-W2ji"
      }
    },
    {
      "cell_type": "markdown",
      "source": [
        "<hr>\n"
      ],
      "metadata": {
        "id": "Eq5uXtmJW2ji"
      }
    },
    {
      "cell_type": "code",
      "source": [
        "# Import the libraries\n",
        "\n",
        "import time\n",
        "import sys\n",
        "import numpy as np\n",
        "\n",
        "import matplotlib.pyplot as plt\n",
        "\n",
        "\n",
        "def Plotvec2(a,b):\n",
        "    ax = plt.axes()# to generate the full window axes\n",
        "    ax.arrow(0, 0, *a, head_width=0.05, color ='r', head_length=0.1)#Add an arrow to the  a Axes with arrow head width 0.05, color red and arrow head length 0.1\n",
        "    plt.text(*(a + 0.1), 'a')\n",
        "    ax.arrow(0, 0, *b, head_width=0.05, color ='b', head_length=0.1)#Add an arrow to the  b Axes with arrow head width 0.05, color blue and arrow head length 0.1\n",
        "    plt.text(*(b + 0.1), 'b')\n",
        "    ax.arrow(0, 0, *c, head_width=0.05, color ='b', head_length=0.1)#Add an arrow to the  b Axes with arrow head width 0.05, color blue and arrow head length 0.1\n",
        "    plt.text(*(c + 0.1), 'c')\n",
        "    plt.ylim(-2, 2)#set the ylim to bottom(-2), top(2)\n",
        "    plt.xlim(-2, 2)#set the xlim to left(-2), right(2)\n",
        "\n",
        "\n"
      ],
      "metadata": {
        "trusted": true,
        "id": "sYMXwFJgW2ji"
      },
      "outputs": [],
      "execution_count": 140
    },
    {
      "cell_type": "markdown",
      "source": [
        "Convert the list <code>\\[-1, 1]</code> and <code>\\[1, 1]</code> to numpy arrays <code>a</code> and <code>b</code>. Then, plot the arrays as vectors using the fuction <code>Plotvec2</code> and find their dot product:\n"
      ],
      "metadata": {
        "id": "qE5vQigsW2jj"
      }
    },
    {
      "cell_type": "code",
      "source": [
        "# Write your code below and press Shift+Enter to execute\n",
        "a = np.array([-1, 1])\n",
        "b = np.array([1, 1])\n",
        "c = np.array([1,-1])\n",
        "Plotvec2(a, b)\n",
        "print(\"The dot product is\", np.dot(a,b))"
      ],
      "metadata": {
        "trusted": true,
        "id": "Zcin-Nh-W2jj",
        "outputId": "47ecf1d7-59ea-4749-a4e6-06d619bd2037",
        "colab": {
          "base_uri": "https://localhost:8080/",
          "height": 452
        }
      },
      "outputs": [
        {
          "output_type": "stream",
          "name": "stdout",
          "text": [
            "The dot product is 0\n"
          ]
        },
        {
          "output_type": "display_data",
          "data": {
            "text/plain": [
              "<Figure size 640x480 with 1 Axes>"
            ],
            "image/png": "[encoded data removed]"
          },
          "metadata": {}
        }
      ],
      "execution_count": 141
    },
    {
      "cell_type": "markdown",
      "source": [
        "<details><summary>Click here for the solution</summary>\n",
        "\n",
        "```python\n",
        "\n",
        "\n",
        "a = np.array([-1, 1])\n",
        "b = np.array([1, 1])\n",
        "Plotvec2(a, b)\n",
        "print(\"The dot product is\", np.dot(a,b))\n",
        "\n",
        "```\n",
        "\n",
        "</details>\n"
      ],
      "metadata": {
        "id": "TCVijMKQW2jj"
      }
    },
    {
      "cell_type": "markdown",
      "source": [
        "<hr>\n"
      ],
      "metadata": {
        "id": "Tk_5CuP8W2jj"
      }
    },
    {
      "cell_type": "markdown",
      "source": [
        "Convert the list <code>\\[1, 0]</code> and <code>\\[0, 1]</code> to numpy arrays <code>a</code> and <code>b</code>. Then, plot the arrays as vectors using the function <code>Plotvec2</code> and find their dot product:\n"
      ],
      "metadata": {
        "id": "iA58U2QjW2jk"
      }
    },
    {
      "cell_type": "code",
      "source": [
        "# Write your code below and press Shift+Enter to execute\n",
        "a = np.array([1, 0])\n",
        "b = np.array([0, 1])\n",
        "Plotvec2(a, b)\n",
        "print(\"The dot product is\", np.dot(a, b))"
      ],
      "metadata": {
        "trusted": true,
        "id": "M2IA6aWZW2jk",
        "outputId": "5a70afc8-f62c-4dae-bc29-96af13ab8901",
        "colab": {
          "base_uri": "https://localhost:8080/",
          "height": 452
        }
      },
      "outputs": [
        {
          "output_type": "stream",
          "name": "stdout",
          "text": [
            "The dot product is 0\n"
          ]
        },
        {
          "output_type": "display_data",
          "data": {
            "text/plain": [
              "<Figure size 640x480 with 1 Axes>"
            ],
            "image/png": "[encoded data removed]"
          },
          "metadata": {}
        }
      ],
      "execution_count": 142
    },
    {
      "cell_type": "markdown",
      "source": [
        "<details><summary>Click here for the solution</summary>\n",
        "\n",
        "```python\n",
        "a = np.array([1, 0])\n",
        "b = np.array([0, 1])\n",
        "Plotvec2(a, b)\n",
        "print(\"The dot product is\", np.dot(a, b))\n",
        "\n",
        "```\n",
        "\n",
        "</details>\n"
      ],
      "metadata": {
        "id": "eHjVPTboVX7N"
      }
    },
    {
      "cell_type": "markdown",
      "source": [
        "<details><summary>Click here for the solution</summary>\n",
        "\n",
        "```python\n",
        "a = np.array([1, 0])\n",
        "b = np.array([0, 1])\n",
        "Plotvec2(a, b)\n",
        "print(\"The dot product is\", np.dot(a, b))\n",
        "\n",
        "```\n",
        "\n",
        "</details>\n"
      ],
      "metadata": {
        "id": "DReQFdyaW2jk"
      }
    },
    {
      "cell_type": "markdown",
      "source": [
        "<hr>\n"
      ],
      "metadata": {
        "id": "bqd_J0nmW2jk"
      }
    },
    {
      "cell_type": "markdown",
      "source": [
        "Convert the list <code>\\[1, 1]</code> and <code>\\[0, 1]</code> to numpy arrays <code>a</code> and <code>b</code>. Then plot the arrays as vectors using the fuction <code>Plotvec2</code> and find their dot product:\n"
      ],
      "metadata": {
        "id": "ekU7oJb1W2jl"
      }
    },
    {
      "cell_type": "code",
      "source": [
        "# Write your code below and press Shift+Enter to execute\n"
      ],
      "metadata": {
        "trusted": true,
        "id": "qH2LME_BW2jl"
      },
      "outputs": [],
      "execution_count": 146
    },
    {
      "cell_type": "markdown",
      "source": [
        "<details><summary>Click here for the solution</summary>\n",
        "\n",
        "```python\n",
        "a = np.array([1, 1])\n",
        "b = np.array([0, 1])\n",
        "Plotvec2(a, b)\n",
        "print(\"The dot product is\", np.dot(a, b))\n",
        "\n",
        "```\n",
        "\n",
        "</details>\n"
      ],
      "metadata": {
        "id": "W0HpCKniW2jl"
      }
    },
    {
      "cell_type": "markdown",
      "source": [
        "<hr>\n"
      ],
      "metadata": {
        "id": "9mxCI9tfW2jm"
      }
    },
    {
      "cell_type": "markdown",
      "source": [
        "Why are the results of the dot product for <code>\\[-1, 1]</code> and <code>\\[1, 1]</code> and the dot product for <code>\\[1, 0]</code> and <code>\\[0, 1]</code> zero, but not zero for the dot product for <code>\\[1, 1]</code> and <code>\\[0, 1]</code>? <p><i>Hint: Study the corresponding figures, pay attention to the direction the arrows are pointing to.</i></p>\n"
      ],
      "metadata": {
        "id": "7C192SXiW2jm"
      }
    },
    {
      "cell_type": "code",
      "source": [
        "# Write your code below and press Shift+Enter to execute\n"
      ],
      "metadata": {
        "trusted": true,
        "id": "4PQ4goPUW2jm"
      },
      "outputs": [],
      "execution_count": null
    },
    {
      "cell_type": "markdown",
      "source": [
        "<details><summary>Click here for the solution</summary>\n",
        "\n",
        "```python\n",
        "The vectors used for question 4 and 5 are perpendicular. As a result, the dot product is zero.\n",
        "\n",
        "```\n",
        "\n",
        "</details>\n"
      ],
      "metadata": {
        "id": "rVSVIpntW2jn"
      }
    },
    {
      "cell_type": "markdown",
      "source": [
        "Convert the list <code>\\[1, 2, 3]</code> and <code>\\[8, 9, 10]</code> to numpy arrays <code>arr1</code> and <code>arr2</code>. Then perform <code>Addition</code> , <code>Subtraction</code> , <code>Multiplication</code> , <code>Division</code> and <code>Dot Operation</code> on the <code>arr1</code> and <code>arr2</code>.\n",
        "\n"
      ],
      "metadata": {
        "id": "eJql7xNSW2jn"
      }
    },
    {
      "cell_type": "code",
      "source": [
        "# Write your code below and press Shift+Enter to execute\n"
      ],
      "metadata": {
        "trusted": true,
        "id": "kbCH0LtkW2jn"
      },
      "outputs": [],
      "execution_count": null
    },
    {
      "cell_type": "markdown",
      "source": [
        "<details><summary>Click here for the solution</summary>\n",
        "\n",
        "```python\n",
        "arr1 = np.array([1, 2, 3])\n",
        "arr2 = np.array([8, 9, 10])\n",
        "\n",
        "arr3 = np.add(arr1, arr2)\n",
        "arr3\n",
        "\n",
        "arr4 = np.subtract(arr1, arr2)\n",
        "arr4\n",
        "\n",
        "arr5 = np.multiply(arr1, arr2)\n",
        "arr5\n",
        "\n",
        "\n",
        "arr6 = np.divide(arr1, arr2)\n",
        "arr6\n",
        "\n",
        "arr7 = np.dot(arr1, arr2)\n",
        "arr7\n",
        "```\n",
        "\n",
        "</details>\n"
      ],
      "metadata": {
        "id": "Ad4cyzMGW2jo"
      }
    },
    {
      "cell_type": "markdown",
      "source": [
        "Convert the list <code>\\[1, 2, 3, 4, 5]</code> and <code>\\[6, 7, 8, 9, 10]</code> to numpy arrays <code>arr1</code> and <code>arr2</code>. Then find the even and odd numbers from <code>arr1</code> and <code>arr2</code>.\n"
      ],
      "metadata": {
        "id": "HWEcuA7JW2jo"
      }
    },
    {
      "cell_type": "code",
      "source": [
        "# Write your code below and press Shift+Enter to execute\n",
        "\n"
      ],
      "metadata": {
        "trusted": true,
        "id": "3e8ruGG2W2jo"
      },
      "outputs": [],
      "execution_count": null
    },
    {
      "cell_type": "markdown",
      "source": [
        "<details><summary>Click here for the solution</summary>\n",
        "\n",
        "```python\n",
        "\n",
        "\n",
        "arr1 = np.array([1, 2, 3, 4, 5])\n",
        "arr2 = np.array([6, 7, 8, 9, 10])\n",
        "\n",
        "#Starting index in slice is 1 as first even element(2) in array1 is at index 1\n",
        "even_arr1 = arr1[1:5:2]\n",
        "print(\"even for array1\",even_arr1)\n",
        "    \n",
        "#Starting index in slice is 0 as first odd element(1) in array1 is at index 0\n",
        "odd_arr1=arr1[0:5:2]\n",
        "print(\"odd for array1\",odd_arr1)\n",
        "\n",
        "#Starting index in slice is 0 as first even element(6) in array2 is at index 0\n",
        "even_arr2 = arr2[0:5:2]\n",
        "print(\"even for array2\",even_arr2)\n",
        "    \n",
        "    \n",
        "#Starting index in slice is 1 as first odd element(7) in array2 is at index 1\n",
        "odd_arr2=arr2[1:5:2]\n",
        "print(\"odd for array2\",odd_arr2)\n",
        "\n",
        "```\n",
        "\n",
        "</details>\n"
      ],
      "metadata": {
        "id": "TwavBKH4W2jo"
      }
    },
    {
      "cell_type": "markdown",
      "source": [
        "<hr>\n",
        "<h2>The last exercise!</h2>\n",
        "<p>Congratulations, you have completed your first lesson and hands-on lab in Python.\n",
        "<hr>\n"
      ],
      "metadata": {
        "id": "QzNGp_etW2jp"
      }
    },
    {
      "cell_type": "code",
      "source": [],
      "metadata": {
        "trusted": true,
        "id": "8nX3DKX4W2jp"
      },
      "outputs": [],
      "execution_count": null
    }
  ]
}